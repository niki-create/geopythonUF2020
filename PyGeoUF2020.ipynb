{
  "nbformat": 4,
  "nbformat_minor": 0,
  "metadata": {
    "colab": {
      "name": "PyGeoUF2020",
      "provenance": [],
      "collapsed_sections": [],
      "authorship_tag": "ABX9TyM0Bua2LKHtadJN4mYq4H/6",
      "include_colab_link": true
    },
    "kernelspec": {
      "name": "python3",
      "display_name": "Python 3"
    }
  },
  "cells": [
    {
      "cell_type": "markdown",
      "metadata": {
        "id": "view-in-github",
        "colab_type": "text"
      },
      "source": [
        "<a href=\"https://colab.research.google.com/github/niki-create/geopythonUF2020/blob/main/PyGeoUF2020.ipynb\" target=\"_parent\"><img src=\"https://colab.research.google.com/assets/colab-badge.svg\" alt=\"Open In Colab\"/></a>"
      ]
    },
    {
      "cell_type": "markdown",
      "metadata": {
        "id": "EZLtCS67X0Id"
      },
      "source": [
        "#**Introduction to Python Coding in Geosciences** \n",
        "####October 2020\n",
        "---\n",
        "\n",
        "\n",
        "\n",
        "\n"
      ]
    },
    {
      "cell_type": "markdown",
      "metadata": {
        "id": "-su3_mm4kcps"
      },
      "source": [
        "*file acess setup*"
      ]
    },
    {
      "cell_type": "code",
      "metadata": {
        "id": "3ZgwC_rOkglQ",
        "outputId": "4023fea4-bf74-4161-9455-12847d03251c",
        "colab": {
          "base_uri": "https://localhost:8080/",
          "height": 34
        }
      },
      "source": [
        "!git clone https://github.com/niki-create/geopythonUF2020\n"
      ],
      "execution_count": null,
      "outputs": [
        {
          "output_type": "stream",
          "text": [
            "fatal: destination path 'geopythonUF2020' already exists and is not an empty directory.\n"
          ],
          "name": "stdout"
        }
      ]
    },
    {
      "cell_type": "markdown",
      "metadata": {
        "id": "ZA79KtBwYz2R"
      },
      "source": [
        "**PART 1.0 Types of Python Data**"
      ]
    },
    {
      "cell_type": "markdown",
      "metadata": {
        "id": "em_3Rcr7kIhx"
      },
      "source": [
        "*Numeric Data*"
      ]
    },
    {
      "cell_type": "code",
      "metadata": {
        "id": "a4aOrxPhkQcE",
        "outputId": "87e59775-51d4-4111-8295-73f7119779e5",
        "colab": {
          "base_uri": "https://localhost:8080/",
          "height": 34
        }
      },
      "source": [
        "1"
      ],
      "execution_count": null,
      "outputs": [
        {
          "output_type": "execute_result",
          "data": {
            "text/plain": [
              "1"
            ]
          },
          "metadata": {
            "tags": []
          },
          "execution_count": 281
        }
      ]
    },
    {
      "cell_type": "code",
      "metadata": {
        "id": "gSZWBJvbkRa6",
        "outputId": "10bd3318-2a02-45d6-b8aa-833b15078402",
        "colab": {
          "base_uri": "https://localhost:8080/",
          "height": 34
        }
      },
      "source": [
        "1.0000"
      ],
      "execution_count": null,
      "outputs": [
        {
          "output_type": "execute_result",
          "data": {
            "text/plain": [
              "1.0"
            ]
          },
          "metadata": {
            "tags": []
          },
          "execution_count": 282
        }
      ]
    },
    {
      "cell_type": "code",
      "metadata": {
        "id": "9NDQ3iTNkSkm",
        "outputId": "cf8edad7-ba18-42dd-dd36-e2363676466b",
        "colab": {
          "base_uri": "https://localhost:8080/",
          "height": 34
        }
      },
      "source": [
        "1.024"
      ],
      "execution_count": null,
      "outputs": [
        {
          "output_type": "execute_result",
          "data": {
            "text/plain": [
              "1.024"
            ]
          },
          "metadata": {
            "tags": []
          },
          "execution_count": 283
        }
      ]
    },
    {
      "cell_type": "markdown",
      "metadata": {
        "id": "YHuaGK8YkUOY"
      },
      "source": [
        "*Text Sequence Data*"
      ]
    },
    {
      "cell_type": "code",
      "metadata": {
        "id": "EUpDDMEck2jh",
        "outputId": "03e64eba-5fde-45c2-8fc0-984ee4ac7faa",
        "colab": {
          "base_uri": "https://localhost:8080/",
          "height": 35
        }
      },
      "source": [
        "'this is a string'"
      ],
      "execution_count": null,
      "outputs": [
        {
          "output_type": "execute_result",
          "data": {
            "application/vnd.google.colaboratory.intrinsic+json": {
              "type": "string"
            },
            "text/plain": [
              "'this is a string'"
            ]
          },
          "metadata": {
            "tags": []
          },
          "execution_count": 284
        }
      ]
    },
    {
      "cell_type": "code",
      "metadata": {
        "id": "afRQkPAOk39m",
        "outputId": "15d7dcdf-df26-40bf-c83a-2a3308d9ff5f",
        "colab": {
          "base_uri": "https://localhost:8080/",
          "height": 35
        }
      },
      "source": [
        "string = 'basalt'\n",
        "string"
      ],
      "execution_count": null,
      "outputs": [
        {
          "output_type": "execute_result",
          "data": {
            "application/vnd.google.colaboratory.intrinsic+json": {
              "type": "string"
            },
            "text/plain": [
              "'basalt'"
            ]
          },
          "metadata": {
            "tags": []
          },
          "execution_count": 285
        }
      ]
    },
    {
      "cell_type": "markdown",
      "metadata": {
        "id": "OcgC7_V9jg-P"
      },
      "source": [
        "*Boolean Data (i.e. true/false)*"
      ]
    },
    {
      "cell_type": "code",
      "metadata": {
        "id": "rKFYJHi3jVDn",
        "outputId": "aec57c59-f3a9-472e-e619-4096b2ca5453",
        "colab": {
          "base_uri": "https://localhost:8080/",
          "height": 34
        }
      },
      "source": [
        "0 is 1\n"
      ],
      "execution_count": null,
      "outputs": [
        {
          "output_type": "execute_result",
          "data": {
            "text/plain": [
              "False"
            ]
          },
          "metadata": {
            "tags": []
          },
          "execution_count": 286
        }
      ]
    },
    {
      "cell_type": "code",
      "metadata": {
        "id": "FpLTZSUhj-pF",
        "outputId": "c3c2291e-f6ce-456d-bb1d-204cade4ea4b",
        "colab": {
          "base_uri": "https://localhost:8080/",
          "height": 34
        }
      },
      "source": [
        "'rock' is 'rock'"
      ],
      "execution_count": null,
      "outputs": [
        {
          "output_type": "execute_result",
          "data": {
            "text/plain": [
              "True"
            ]
          },
          "metadata": {
            "tags": []
          },
          "execution_count": 287
        }
      ]
    },
    {
      "cell_type": "markdown",
      "metadata": {
        "id": "flByatAHlF7n"
      },
      "source": [
        "*Sequence Data*"
      ]
    },
    {
      "cell_type": "code",
      "metadata": {
        "id": "0fltqTJVlNpo",
        "outputId": "abe0a118-6fa0-407a-ed1c-2cfc4c09330f",
        "colab": {
          "base_uri": "https://localhost:8080/",
          "height": 34
        }
      },
      "source": [
        "[1,2,3,4,5,6]"
      ],
      "execution_count": null,
      "outputs": [
        {
          "output_type": "execute_result",
          "data": {
            "text/plain": [
              "[1, 2, 3, 4, 5, 6]"
            ]
          },
          "metadata": {
            "tags": []
          },
          "execution_count": 288
        }
      ]
    },
    {
      "cell_type": "code",
      "metadata": {
        "id": "ea-P7yCQlRjA"
      },
      "source": [
        "list = [10,20,30,40,50]"
      ],
      "execution_count": null,
      "outputs": []
    },
    {
      "cell_type": "code",
      "metadata": {
        "id": "lIudX4orlWVm",
        "outputId": "b5010cd6-3563-4bc9-becf-7d1df20c9fcf",
        "colab": {
          "base_uri": "https://localhost:8080/",
          "height": 34
        }
      },
      "source": [
        "list[1]"
      ],
      "execution_count": null,
      "outputs": [
        {
          "output_type": "execute_result",
          "data": {
            "text/plain": [
              "20"
            ]
          },
          "metadata": {
            "tags": []
          },
          "execution_count": 290
        }
      ]
    },
    {
      "cell_type": "code",
      "metadata": {
        "id": "7MvpjiAmlX6F",
        "outputId": "a2e8592a-d040-4340-a400-44c21b6a3725",
        "colab": {
          "base_uri": "https://localhost:8080/",
          "height": 35
        }
      },
      "source": [
        "rocks = ['basalt','arenite','greenstone']\n",
        "rocks[0]"
      ],
      "execution_count": null,
      "outputs": [
        {
          "output_type": "execute_result",
          "data": {
            "application/vnd.google.colaboratory.intrinsic+json": {
              "type": "string"
            },
            "text/plain": [
              "'basalt'"
            ]
          },
          "metadata": {
            "tags": []
          },
          "execution_count": 291
        }
      ]
    },
    {
      "cell_type": "code",
      "metadata": {
        "id": "FnFmKxHhlgbp",
        "outputId": "742686d6-7bbb-44a4-90e6-f0f68700fbd3",
        "colab": {
          "base_uri": "https://localhost:8080/",
          "height": 34
        }
      },
      "source": [
        "#tuples\n",
        "(0,1)"
      ],
      "execution_count": null,
      "outputs": [
        {
          "output_type": "execute_result",
          "data": {
            "text/plain": [
              "(0, 1)"
            ]
          },
          "metadata": {
            "tags": []
          },
          "execution_count": 292
        }
      ]
    },
    {
      "cell_type": "code",
      "metadata": {
        "id": "1pJTVUYvl8sj"
      },
      "source": [
        "#dictionaries\n",
        "rgb = {'red': 45, 'green': 32, 'blue': 22}\n"
      ],
      "execution_count": null,
      "outputs": []
    },
    {
      "cell_type": "markdown",
      "metadata": {
        "id": "yjlrgq3OixcY"
      },
      "source": [
        "**PART 2.0 Simple Coding**"
      ]
    },
    {
      "cell_type": "code",
      "metadata": {
        "id": "BQHTEekMhOkz",
        "outputId": "66555276-c833-49f3-9312-496d27a5548d",
        "colab": {
          "base_uri": "https://localhost:8080/",
          "height": 34
        }
      },
      "source": [
        "1+1"
      ],
      "execution_count": null,
      "outputs": [
        {
          "output_type": "execute_result",
          "data": {
            "text/plain": [
              "2"
            ]
          },
          "metadata": {
            "tags": []
          },
          "execution_count": 294
        }
      ]
    },
    {
      "cell_type": "code",
      "metadata": {
        "id": "H4t7lyQmhWfk",
        "outputId": "edb08ff6-a3d2-4fe7-96c1-c063785bbc58",
        "colab": {
          "base_uri": "https://localhost:8080/",
          "height": 34
        }
      },
      "source": [
        "print('number')"
      ],
      "execution_count": null,
      "outputs": [
        {
          "output_type": "stream",
          "text": [
            "number\n"
          ],
          "name": "stdout"
        }
      ]
    },
    {
      "cell_type": "code",
      "metadata": {
        "id": "O8Z41ZdOhlzg"
      },
      "source": [
        "first_number = 4\n",
        "second_number = 5"
      ],
      "execution_count": null,
      "outputs": []
    },
    {
      "cell_type": "code",
      "metadata": {
        "id": "fN-1XOMxhsqG",
        "outputId": "f1ad928b-9cfe-455b-ac38-a5ff90755c25",
        "colab": {
          "base_uri": "https://localhost:8080/",
          "height": 34
        }
      },
      "source": [
        "first_number"
      ],
      "execution_count": null,
      "outputs": [
        {
          "output_type": "execute_result",
          "data": {
            "text/plain": [
              "4"
            ]
          },
          "metadata": {
            "tags": []
          },
          "execution_count": 297
        }
      ]
    },
    {
      "cell_type": "code",
      "metadata": {
        "id": "YYsR0U3Nhw2H",
        "outputId": "16387e4c-befc-47d3-9c6c-18b35218da84",
        "colab": {
          "base_uri": "https://localhost:8080/",
          "height": 34
        }
      },
      "source": [
        "first_number / second_number"
      ],
      "execution_count": null,
      "outputs": [
        {
          "output_type": "execute_result",
          "data": {
            "text/plain": [
              "0.8"
            ]
          },
          "metadata": {
            "tags": []
          },
          "execution_count": 298
        }
      ]
    },
    {
      "cell_type": "code",
      "metadata": {
        "id": "07zjM5Z2h1dU"
      },
      "source": [
        "import math"
      ],
      "execution_count": null,
      "outputs": []
    },
    {
      "cell_type": "code",
      "metadata": {
        "id": "GureKX2kh6uB",
        "outputId": "da878e6d-1d73-4b41-b97b-f720015097a4",
        "colab": {
          "base_uri": "https://localhost:8080/",
          "height": 34
        }
      },
      "source": [
        "math.sqrt(4)"
      ],
      "execution_count": null,
      "outputs": [
        {
          "output_type": "execute_result",
          "data": {
            "text/plain": [
              "2.0"
            ]
          },
          "metadata": {
            "tags": []
          },
          "execution_count": 300
        }
      ]
    },
    {
      "cell_type": "code",
      "metadata": {
        "id": "trClYRMn24x3"
      },
      "source": [
        "r = range(0,11)"
      ],
      "execution_count": null,
      "outputs": []
    },
    {
      "cell_type": "code",
      "metadata": {
        "id": "YYqdnKQx4Pjp",
        "outputId": "68b9f279-e159-4c05-f1bb-a4e2aa7eb628",
        "colab": {
          "base_uri": "https://localhost:8080/",
          "height": 34
        }
      },
      "source": [
        "r[2]"
      ],
      "execution_count": null,
      "outputs": [
        {
          "output_type": "execute_result",
          "data": {
            "text/plain": [
              "2"
            ]
          },
          "metadata": {
            "tags": []
          },
          "execution_count": 302
        }
      ]
    },
    {
      "cell_type": "code",
      "metadata": {
        "id": "Rx2Lk-I5AVSR",
        "outputId": "4ddd56c3-a001-4269-c25d-5f4fe504862a",
        "colab": {
          "base_uri": "https://localhost:8080/",
          "height": 51
        }
      },
      "source": [
        "print(list)\n",
        "print(len(list))"
      ],
      "execution_count": null,
      "outputs": [
        {
          "output_type": "stream",
          "text": [
            "[10, 20, 30, 40, 50]\n",
            "5\n"
          ],
          "name": "stdout"
        }
      ]
    },
    {
      "cell_type": "markdown",
      "metadata": {
        "id": "Ql06-lAMxhOx"
      },
      "source": [
        "**PART 3.0 NumPy**"
      ]
    },
    {
      "cell_type": "code",
      "metadata": {
        "id": "QkmK8Xn5xxsN"
      },
      "source": [
        "#linear algebra library for python. Almost all other libraries use numpy. \n",
        "\n",
        "#import packages \n",
        "import numpy as np"
      ],
      "execution_count": null,
      "outputs": []
    },
    {
      "cell_type": "code",
      "metadata": {
        "id": "qE8Wm7Yf19RK"
      },
      "source": [
        "#an array in numpy is similar to a list in python"
      ],
      "execution_count": null,
      "outputs": []
    },
    {
      "cell_type": "code",
      "metadata": {
        "id": "9zaqZFHkzV0C",
        "outputId": "cfea1be4-bcc8-4ee1-a924-2216bcc61a5c",
        "colab": {
          "base_uri": "https://localhost:8080/",
          "height": 34
        }
      },
      "source": [
        "# 1 dimensional array\n",
        "array_1d = np.array([1,2,3])\n",
        "print(array_1d)"
      ],
      "execution_count": null,
      "outputs": [
        {
          "output_type": "stream",
          "text": [
            "[1 2 3]\n"
          ],
          "name": "stdout"
        }
      ]
    },
    {
      "cell_type": "code",
      "metadata": {
        "id": "VkwR0AZjzVrF",
        "outputId": "0647f6df-1e80-4c63-90d7-f900d394d8b7",
        "colab": {
          "base_uri": "https://localhost:8080/",
          "height": 51
        }
      },
      "source": [
        "# 2 dimensional array\n",
        "array_2d = np.array([[1,2,3],[4,5,6]])\n",
        "print(array_2d)"
      ],
      "execution_count": null,
      "outputs": [
        {
          "output_type": "stream",
          "text": [
            "[[1 2 3]\n",
            " [4 5 6]]\n"
          ],
          "name": "stdout"
        }
      ]
    },
    {
      "cell_type": "code",
      "metadata": {
        "id": "lCpM3V3l1L2m",
        "outputId": "9bf80ca7-1b98-4bd9-ba33-ecee13ce0ff8",
        "colab": {
          "base_uri": "https://localhost:8080/",
          "height": 34
        }
      },
      "source": [
        "#you can also create arrays using:\n",
        "\n",
        "#np.arrange which is similar to the built in range function in python\n",
        "np.arange(0,10)"
      ],
      "execution_count": null,
      "outputs": [
        {
          "output_type": "execute_result",
          "data": {
            "text/plain": [
              "array([0, 1, 2, 3, 4, 5, 6, 7, 8, 9])"
            ]
          },
          "metadata": {
            "tags": []
          },
          "execution_count": 308
        }
      ]
    },
    {
      "cell_type": "code",
      "metadata": {
        "id": "sFCt7MNF4X2d",
        "outputId": "38d7f6fb-d4b7-4408-fa5f-e01cc05cc694",
        "colab": {
          "base_uri": "https://localhost:8080/",
          "height": 34
        }
      },
      "source": [
        "np.zeros(5)"
      ],
      "execution_count": null,
      "outputs": [
        {
          "output_type": "execute_result",
          "data": {
            "text/plain": [
              "array([0., 0., 0., 0., 0.])"
            ]
          },
          "metadata": {
            "tags": []
          },
          "execution_count": 309
        }
      ]
    },
    {
      "cell_type": "code",
      "metadata": {
        "id": "XjMqJepM4ftK",
        "outputId": "52ee5bd3-b75f-4d97-d7ca-045f8cc72729",
        "colab": {
          "base_uri": "https://localhost:8080/",
          "height": 102
        }
      },
      "source": [
        "np.zeros((5,5))"
      ],
      "execution_count": null,
      "outputs": [
        {
          "output_type": "execute_result",
          "data": {
            "text/plain": [
              "array([[0., 0., 0., 0., 0.],\n",
              "       [0., 0., 0., 0., 0.],\n",
              "       [0., 0., 0., 0., 0.],\n",
              "       [0., 0., 0., 0., 0.],\n",
              "       [0., 0., 0., 0., 0.]])"
            ]
          },
          "metadata": {
            "tags": []
          },
          "execution_count": 310
        }
      ]
    },
    {
      "cell_type": "code",
      "metadata": {
        "id": "5OXgCSAN4hwC",
        "outputId": "772b5566-163d-4d6f-876f-c83873351085",
        "colab": {
          "base_uri": "https://localhost:8080/",
          "height": 34
        }
      },
      "source": [
        "np.ones(10)"
      ],
      "execution_count": null,
      "outputs": [
        {
          "output_type": "execute_result",
          "data": {
            "text/plain": [
              "array([1., 1., 1., 1., 1., 1., 1., 1., 1., 1.])"
            ]
          },
          "metadata": {
            "tags": []
          },
          "execution_count": 311
        }
      ]
    },
    {
      "cell_type": "code",
      "metadata": {
        "id": "UsP9wPOc4jit",
        "outputId": "771fe3aa-c1fa-4e5a-cc74-6942873fe131",
        "colab": {
          "base_uri": "https://localhost:8080/",
          "height": 34
        }
      },
      "source": [
        "np.ones(10)*36"
      ],
      "execution_count": null,
      "outputs": [
        {
          "output_type": "execute_result",
          "data": {
            "text/plain": [
              "array([36., 36., 36., 36., 36., 36., 36., 36., 36., 36.])"
            ]
          },
          "metadata": {
            "tags": []
          },
          "execution_count": 312
        }
      ]
    },
    {
      "cell_type": "code",
      "metadata": {
        "id": "dEkpxZq0_EZG",
        "outputId": "9d97ebf5-8c7e-4efe-cd58-f5fca06db9f1",
        "colab": {
          "base_uri": "https://localhost:8080/",
          "height": 34
        }
      },
      "source": [
        "array_1d_2 = np.array([20,19,18])\n",
        "array_1d / array_1d_2"
      ],
      "execution_count": null,
      "outputs": [
        {
          "output_type": "execute_result",
          "data": {
            "text/plain": [
              "array([0.05      , 0.10526316, 0.16666667])"
            ]
          },
          "metadata": {
            "tags": []
          },
          "execution_count": 313
        }
      ]
    },
    {
      "cell_type": "code",
      "metadata": {
        "id": "rj5BS0hR4qJP",
        "outputId": "b6a5016d-4424-4a16-e965-b91c325072b5",
        "colab": {
          "base_uri": "https://localhost:8080/",
          "height": 51
        }
      },
      "source": [
        "#make an array of 10 evenly spaced points between 1 and 5\n",
        "np.linspace(1,5,10)"
      ],
      "execution_count": null,
      "outputs": [
        {
          "output_type": "execute_result",
          "data": {
            "text/plain": [
              "array([1.        , 1.44444444, 1.88888889, 2.33333333, 2.77777778,\n",
              "       3.22222222, 3.66666667, 4.11111111, 4.55555556, 5.        ])"
            ]
          },
          "metadata": {
            "tags": []
          },
          "execution_count": 314
        }
      ]
    },
    {
      "cell_type": "markdown",
      "metadata": {
        "id": "hLl0ENzU5D3Z"
      },
      "source": [
        "**PART 4.0 Pandas**"
      ]
    },
    {
      "cell_type": "code",
      "metadata": {
        "id": "iwfvG3gl5Kid"
      },
      "source": [
        "#import packages \n",
        "import pandas as pd"
      ],
      "execution_count": null,
      "outputs": []
    },
    {
      "cell_type": "code",
      "metadata": {
        "id": "cKcAC-sm5TLO",
        "outputId": "63984757-53fc-4f87-e3c6-a8ef5eaf0b3a",
        "colab": {
          "base_uri": "https://localhost:8080/",
          "height": 204
        }
      },
      "source": [
        "#setting up a pandas data frame from scratch\n",
        "\n",
        "#raw data\n",
        "Rb = [62.0, 87.1, 65.4, 87.6, 45.6, 15.5, 62.3]\n",
        "Sr = [200.0, 700.5, 245.6, 656.7, 304.7, 100.4, 684.3]\n",
        "Q  = [4,  13, 30,  5, 21, 31, 7]\n",
        "A  = [11, 20, 25, 12, 24, 13, 29]\n",
        "P  = [85, 67, 45, 83, 55, 56, 64]\n",
        "\n",
        "#make table\n",
        "df = pd.DataFrame(data=[Rb,Sr,Q,A,P],\n",
        "                  columns = ['rockno_1','rockno_2','rockno_3','rockno_4',\n",
        "                             'rockno_5','rockno_6','rockno_7'],\n",
        "                  index   = ['Rb', 'Sr','Q','A','P'])\n",
        "\n",
        "#show table\n",
        "df\n",
        "\n"
      ],
      "execution_count": null,
      "outputs": [
        {
          "output_type": "execute_result",
          "data": {
            "text/html": [
              "<div>\n",
              "<style scoped>\n",
              "    .dataframe tbody tr th:only-of-type {\n",
              "        vertical-align: middle;\n",
              "    }\n",
              "\n",
              "    .dataframe tbody tr th {\n",
              "        vertical-align: top;\n",
              "    }\n",
              "\n",
              "    .dataframe thead th {\n",
              "        text-align: right;\n",
              "    }\n",
              "</style>\n",
              "<table border=\"1\" class=\"dataframe\">\n",
              "  <thead>\n",
              "    <tr style=\"text-align: right;\">\n",
              "      <th></th>\n",
              "      <th>rockno_1</th>\n",
              "      <th>rockno_2</th>\n",
              "      <th>rockno_3</th>\n",
              "      <th>rockno_4</th>\n",
              "      <th>rockno_5</th>\n",
              "      <th>rockno_6</th>\n",
              "      <th>rockno_7</th>\n",
              "    </tr>\n",
              "  </thead>\n",
              "  <tbody>\n",
              "    <tr>\n",
              "      <th>Rb</th>\n",
              "      <td>62.0</td>\n",
              "      <td>87.1</td>\n",
              "      <td>65.4</td>\n",
              "      <td>87.6</td>\n",
              "      <td>45.6</td>\n",
              "      <td>15.5</td>\n",
              "      <td>62.3</td>\n",
              "    </tr>\n",
              "    <tr>\n",
              "      <th>Sr</th>\n",
              "      <td>200.0</td>\n",
              "      <td>700.5</td>\n",
              "      <td>245.6</td>\n",
              "      <td>656.7</td>\n",
              "      <td>304.7</td>\n",
              "      <td>100.4</td>\n",
              "      <td>684.3</td>\n",
              "    </tr>\n",
              "    <tr>\n",
              "      <th>Q</th>\n",
              "      <td>4.0</td>\n",
              "      <td>13.0</td>\n",
              "      <td>30.0</td>\n",
              "      <td>5.0</td>\n",
              "      <td>21.0</td>\n",
              "      <td>31.0</td>\n",
              "      <td>7.0</td>\n",
              "    </tr>\n",
              "    <tr>\n",
              "      <th>A</th>\n",
              "      <td>11.0</td>\n",
              "      <td>20.0</td>\n",
              "      <td>25.0</td>\n",
              "      <td>12.0</td>\n",
              "      <td>24.0</td>\n",
              "      <td>13.0</td>\n",
              "      <td>29.0</td>\n",
              "    </tr>\n",
              "    <tr>\n",
              "      <th>P</th>\n",
              "      <td>85.0</td>\n",
              "      <td>67.0</td>\n",
              "      <td>45.0</td>\n",
              "      <td>83.0</td>\n",
              "      <td>55.0</td>\n",
              "      <td>56.0</td>\n",
              "      <td>64.0</td>\n",
              "    </tr>\n",
              "  </tbody>\n",
              "</table>\n",
              "</div>"
            ],
            "text/plain": [
              "    rockno_1  rockno_2  rockno_3  rockno_4  rockno_5  rockno_6  rockno_7\n",
              "Rb      62.0      87.1      65.4      87.6      45.6      15.5      62.3\n",
              "Sr     200.0     700.5     245.6     656.7     304.7     100.4     684.3\n",
              "Q        4.0      13.0      30.0       5.0      21.0      31.0       7.0\n",
              "A       11.0      20.0      25.0      12.0      24.0      13.0      29.0\n",
              "P       85.0      67.0      45.0      83.0      55.0      56.0      64.0"
            ]
          },
          "metadata": {
            "tags": []
          },
          "execution_count": 316
        }
      ]
    },
    {
      "cell_type": "code",
      "metadata": {
        "id": "GLLF9l87K5vK",
        "outputId": "9af35b17-aef7-4cfe-df18-940ce5a4fb34",
        "colab": {
          "base_uri": "https://localhost:8080/",
          "height": 266
        }
      },
      "source": [
        "#using dictionaries to set up a dataframe\n",
        "df2 = pd.DataFrame({\n",
        "    'SAMPLE'  : ['rock1', 'rock2', 'rock3', 'rock4', 'rock5', 'rock6', 'rock7'],\n",
        "    'Rb' : [62.0, 87.1, 65.4, 87.6, 45.6, 15.5, 62.3],\n",
        "    'Sr' : [200.0, 700.5, 245.6, 656.7, 304.7, 100.4, 684.3],\n",
        "    'Q'  : [4,  13, 30,  5, 21, 31, 7],\n",
        "    'A'  : [11, 20, 25, 12, 24, 13, 29],\n",
        "    'P'  : [85, 67, 45, 83, 55, 56, 64],\n",
        "                  })\n",
        "    \n",
        "df2"
      ],
      "execution_count": null,
      "outputs": [
        {
          "output_type": "execute_result",
          "data": {
            "text/html": [
              "<div>\n",
              "<style scoped>\n",
              "    .dataframe tbody tr th:only-of-type {\n",
              "        vertical-align: middle;\n",
              "    }\n",
              "\n",
              "    .dataframe tbody tr th {\n",
              "        vertical-align: top;\n",
              "    }\n",
              "\n",
              "    .dataframe thead th {\n",
              "        text-align: right;\n",
              "    }\n",
              "</style>\n",
              "<table border=\"1\" class=\"dataframe\">\n",
              "  <thead>\n",
              "    <tr style=\"text-align: right;\">\n",
              "      <th></th>\n",
              "      <th>SAMPLE</th>\n",
              "      <th>Rb</th>\n",
              "      <th>Sr</th>\n",
              "      <th>Q</th>\n",
              "      <th>A</th>\n",
              "      <th>P</th>\n",
              "    </tr>\n",
              "  </thead>\n",
              "  <tbody>\n",
              "    <tr>\n",
              "      <th>0</th>\n",
              "      <td>rock1</td>\n",
              "      <td>62.0</td>\n",
              "      <td>200.0</td>\n",
              "      <td>4</td>\n",
              "      <td>11</td>\n",
              "      <td>85</td>\n",
              "    </tr>\n",
              "    <tr>\n",
              "      <th>1</th>\n",
              "      <td>rock2</td>\n",
              "      <td>87.1</td>\n",
              "      <td>700.5</td>\n",
              "      <td>13</td>\n",
              "      <td>20</td>\n",
              "      <td>67</td>\n",
              "    </tr>\n",
              "    <tr>\n",
              "      <th>2</th>\n",
              "      <td>rock3</td>\n",
              "      <td>65.4</td>\n",
              "      <td>245.6</td>\n",
              "      <td>30</td>\n",
              "      <td>25</td>\n",
              "      <td>45</td>\n",
              "    </tr>\n",
              "    <tr>\n",
              "      <th>3</th>\n",
              "      <td>rock4</td>\n",
              "      <td>87.6</td>\n",
              "      <td>656.7</td>\n",
              "      <td>5</td>\n",
              "      <td>12</td>\n",
              "      <td>83</td>\n",
              "    </tr>\n",
              "    <tr>\n",
              "      <th>4</th>\n",
              "      <td>rock5</td>\n",
              "      <td>45.6</td>\n",
              "      <td>304.7</td>\n",
              "      <td>21</td>\n",
              "      <td>24</td>\n",
              "      <td>55</td>\n",
              "    </tr>\n",
              "    <tr>\n",
              "      <th>5</th>\n",
              "      <td>rock6</td>\n",
              "      <td>15.5</td>\n",
              "      <td>100.4</td>\n",
              "      <td>31</td>\n",
              "      <td>13</td>\n",
              "      <td>56</td>\n",
              "    </tr>\n",
              "    <tr>\n",
              "      <th>6</th>\n",
              "      <td>rock7</td>\n",
              "      <td>62.3</td>\n",
              "      <td>684.3</td>\n",
              "      <td>7</td>\n",
              "      <td>29</td>\n",
              "      <td>64</td>\n",
              "    </tr>\n",
              "  </tbody>\n",
              "</table>\n",
              "</div>"
            ],
            "text/plain": [
              "  SAMPLE    Rb     Sr   Q   A   P\n",
              "0  rock1  62.0  200.0   4  11  85\n",
              "1  rock2  87.1  700.5  13  20  67\n",
              "2  rock3  65.4  245.6  30  25  45\n",
              "3  rock4  87.6  656.7   5  12  83\n",
              "4  rock5  45.6  304.7  21  24  55\n",
              "5  rock6  15.5  100.4  31  13  56\n",
              "6  rock7  62.3  684.3   7  29  64"
            ]
          },
          "metadata": {
            "tags": []
          },
          "execution_count": 317
        }
      ]
    },
    {
      "cell_type": "code",
      "metadata": {
        "id": "kY6CdkM8Mi8A",
        "outputId": "ca8e3666-4caf-4196-eca2-e3d7966d784a",
        "colab": {
          "base_uri": "https://localhost:8080/",
          "height": 266
        }
      },
      "source": [
        "#Rotating Tables\n",
        "df = df.transpose()\n",
        "df"
      ],
      "execution_count": null,
      "outputs": [
        {
          "output_type": "execute_result",
          "data": {
            "text/html": [
              "<div>\n",
              "<style scoped>\n",
              "    .dataframe tbody tr th:only-of-type {\n",
              "        vertical-align: middle;\n",
              "    }\n",
              "\n",
              "    .dataframe tbody tr th {\n",
              "        vertical-align: top;\n",
              "    }\n",
              "\n",
              "    .dataframe thead th {\n",
              "        text-align: right;\n",
              "    }\n",
              "</style>\n",
              "<table border=\"1\" class=\"dataframe\">\n",
              "  <thead>\n",
              "    <tr style=\"text-align: right;\">\n",
              "      <th></th>\n",
              "      <th>Rb</th>\n",
              "      <th>Sr</th>\n",
              "      <th>Q</th>\n",
              "      <th>A</th>\n",
              "      <th>P</th>\n",
              "    </tr>\n",
              "  </thead>\n",
              "  <tbody>\n",
              "    <tr>\n",
              "      <th>rockno_1</th>\n",
              "      <td>62.0</td>\n",
              "      <td>200.0</td>\n",
              "      <td>4.0</td>\n",
              "      <td>11.0</td>\n",
              "      <td>85.0</td>\n",
              "    </tr>\n",
              "    <tr>\n",
              "      <th>rockno_2</th>\n",
              "      <td>87.1</td>\n",
              "      <td>700.5</td>\n",
              "      <td>13.0</td>\n",
              "      <td>20.0</td>\n",
              "      <td>67.0</td>\n",
              "    </tr>\n",
              "    <tr>\n",
              "      <th>rockno_3</th>\n",
              "      <td>65.4</td>\n",
              "      <td>245.6</td>\n",
              "      <td>30.0</td>\n",
              "      <td>25.0</td>\n",
              "      <td>45.0</td>\n",
              "    </tr>\n",
              "    <tr>\n",
              "      <th>rockno_4</th>\n",
              "      <td>87.6</td>\n",
              "      <td>656.7</td>\n",
              "      <td>5.0</td>\n",
              "      <td>12.0</td>\n",
              "      <td>83.0</td>\n",
              "    </tr>\n",
              "    <tr>\n",
              "      <th>rockno_5</th>\n",
              "      <td>45.6</td>\n",
              "      <td>304.7</td>\n",
              "      <td>21.0</td>\n",
              "      <td>24.0</td>\n",
              "      <td>55.0</td>\n",
              "    </tr>\n",
              "    <tr>\n",
              "      <th>rockno_6</th>\n",
              "      <td>15.5</td>\n",
              "      <td>100.4</td>\n",
              "      <td>31.0</td>\n",
              "      <td>13.0</td>\n",
              "      <td>56.0</td>\n",
              "    </tr>\n",
              "    <tr>\n",
              "      <th>rockno_7</th>\n",
              "      <td>62.3</td>\n",
              "      <td>684.3</td>\n",
              "      <td>7.0</td>\n",
              "      <td>29.0</td>\n",
              "      <td>64.0</td>\n",
              "    </tr>\n",
              "  </tbody>\n",
              "</table>\n",
              "</div>"
            ],
            "text/plain": [
              "            Rb     Sr     Q     A     P\n",
              "rockno_1  62.0  200.0   4.0  11.0  85.0\n",
              "rockno_2  87.1  700.5  13.0  20.0  67.0\n",
              "rockno_3  65.4  245.6  30.0  25.0  45.0\n",
              "rockno_4  87.6  656.7   5.0  12.0  83.0\n",
              "rockno_5  45.6  304.7  21.0  24.0  55.0\n",
              "rockno_6  15.5  100.4  31.0  13.0  56.0\n",
              "rockno_7  62.3  684.3   7.0  29.0  64.0"
            ]
          },
          "metadata": {
            "tags": []
          },
          "execution_count": 318
        }
      ]
    },
    {
      "cell_type": "code",
      "metadata": {
        "id": "ea2qWdlX-iRV",
        "outputId": "2998b0f2-9a8c-4648-8006-617bd4d01e39",
        "colab": {
          "base_uri": "https://localhost:8080/",
          "height": 34
        }
      },
      "source": [
        "#table indexing and picking out info\n",
        "df.iloc[1]\n",
        "\n",
        "#or\n",
        "\n",
        "df.loc['rockno_2']\n",
        "\n",
        "#pick out specific values\n",
        "\n",
        "df.Rb['rockno_2']\n"
      ],
      "execution_count": null,
      "outputs": [
        {
          "output_type": "execute_result",
          "data": {
            "text/plain": [
              "87.1"
            ]
          },
          "metadata": {
            "tags": []
          },
          "execution_count": 319
        }
      ]
    },
    {
      "cell_type": "code",
      "metadata": {
        "id": "jvq9AKg__XG3",
        "outputId": "0e774c8c-d84f-4b87-d5d1-75fab37c0761",
        "colab": {
          "base_uri": "https://localhost:8080/",
          "height": 153
        }
      },
      "source": [
        "#mathimatical test (boolean tests)\n",
        "\n",
        "df.Rb >60"
      ],
      "execution_count": null,
      "outputs": [
        {
          "output_type": "execute_result",
          "data": {
            "text/plain": [
              "rockno_1     True\n",
              "rockno_2     True\n",
              "rockno_3     True\n",
              "rockno_4     True\n",
              "rockno_5    False\n",
              "rockno_6    False\n",
              "rockno_7     True\n",
              "Name: Rb, dtype: bool"
            ]
          },
          "metadata": {
            "tags": []
          },
          "execution_count": 320
        }
      ]
    },
    {
      "cell_type": "code",
      "metadata": {
        "id": "_u2dDAZdP-kj",
        "outputId": "ff64aa29-0281-490e-ec1e-4a7cd836c1fd",
        "colab": {
          "base_uri": "https://localhost:8080/",
          "height": 153
        }
      },
      "source": [
        "df.Q"
      ],
      "execution_count": null,
      "outputs": [
        {
          "output_type": "execute_result",
          "data": {
            "text/plain": [
              "rockno_1     4.0\n",
              "rockno_2    13.0\n",
              "rockno_3    30.0\n",
              "rockno_4     5.0\n",
              "rockno_5    21.0\n",
              "rockno_6    31.0\n",
              "rockno_7     7.0\n",
              "Name: Q, dtype: float64"
            ]
          },
          "metadata": {
            "tags": []
          },
          "execution_count": 321
        }
      ]
    },
    {
      "cell_type": "code",
      "metadata": {
        "id": "_uM02WOrGlwA",
        "outputId": "cf60fbba-4882-403f-8042-922f1f0bd192",
        "colab": {
          "base_uri": "https://localhost:8080/",
          "height": 111
        }
      },
      "source": [
        "#select data baed on tests\n",
        "df[df['Rb'] >50]\n",
        "\n",
        "#or between values\n",
        "df[df['P'].between(60,75)]\n",
        "\n",
        "#or outside values\n",
        "\n",
        "df[(df.Q > 29) | (df.Q < 10)]\n",
        "\n",
        "#or using mulitple searches\n",
        "\n",
        "df[(df.Q < 31) & (df.Sr < 250)]\n",
        "\n"
      ],
      "execution_count": null,
      "outputs": [
        {
          "output_type": "execute_result",
          "data": {
            "text/html": [
              "<div>\n",
              "<style scoped>\n",
              "    .dataframe tbody tr th:only-of-type {\n",
              "        vertical-align: middle;\n",
              "    }\n",
              "\n",
              "    .dataframe tbody tr th {\n",
              "        vertical-align: top;\n",
              "    }\n",
              "\n",
              "    .dataframe thead th {\n",
              "        text-align: right;\n",
              "    }\n",
              "</style>\n",
              "<table border=\"1\" class=\"dataframe\">\n",
              "  <thead>\n",
              "    <tr style=\"text-align: right;\">\n",
              "      <th></th>\n",
              "      <th>Rb</th>\n",
              "      <th>Sr</th>\n",
              "      <th>Q</th>\n",
              "      <th>A</th>\n",
              "      <th>P</th>\n",
              "    </tr>\n",
              "  </thead>\n",
              "  <tbody>\n",
              "    <tr>\n",
              "      <th>rockno_1</th>\n",
              "      <td>62.0</td>\n",
              "      <td>200.0</td>\n",
              "      <td>4.0</td>\n",
              "      <td>11.0</td>\n",
              "      <td>85.0</td>\n",
              "    </tr>\n",
              "    <tr>\n",
              "      <th>rockno_3</th>\n",
              "      <td>65.4</td>\n",
              "      <td>245.6</td>\n",
              "      <td>30.0</td>\n",
              "      <td>25.0</td>\n",
              "      <td>45.0</td>\n",
              "    </tr>\n",
              "  </tbody>\n",
              "</table>\n",
              "</div>"
            ],
            "text/plain": [
              "            Rb     Sr     Q     A     P\n",
              "rockno_1  62.0  200.0   4.0  11.0  85.0\n",
              "rockno_3  65.4  245.6  30.0  25.0  45.0"
            ]
          },
          "metadata": {
            "tags": []
          },
          "execution_count": 322
        }
      ]
    },
    {
      "cell_type": "code",
      "metadata": {
        "id": "r3CZ2G9x5Te-",
        "outputId": "9bb20da3-b4f9-40b6-9cfe-d9a9721062ec",
        "colab": {
          "base_uri": "https://localhost:8080/",
          "height": 204
        }
      },
      "source": [
        "#loading excel or's csv\n",
        "\n",
        "FILE =  'https://github.com/niki-create/geopythonUF2020/blob/main/PyGeo2020UF.xlsx?raw=true'\n",
        "unformCHEM = pd.read_excel(FILE,sheet_name='Whole_Rock')\n",
        "unformCHEM.head()\n"
      ],
      "execution_count": null,
      "outputs": [
        {
          "output_type": "execute_result",
          "data": {
            "text/html": [
              "<div>\n",
              "<style scoped>\n",
              "    .dataframe tbody tr th:only-of-type {\n",
              "        vertical-align: middle;\n",
              "    }\n",
              "\n",
              "    .dataframe tbody tr th {\n",
              "        vertical-align: top;\n",
              "    }\n",
              "\n",
              "    .dataframe thead th {\n",
              "        text-align: right;\n",
              "    }\n",
              "</style>\n",
              "<table border=\"1\" class=\"dataframe\">\n",
              "  <thead>\n",
              "    <tr style=\"text-align: right;\">\n",
              "      <th></th>\n",
              "      <th>Unnamed: 0</th>\n",
              "      <th>UTI1415</th>\n",
              "      <th>UTI16515</th>\n",
              "      <th>UTI2015</th>\n",
              "      <th>UTI1515</th>\n",
              "      <th>UTI315</th>\n",
              "      <th>UTI1815</th>\n",
              "      <th>UTI1715</th>\n",
              "      <th>UTI8115</th>\n",
              "      <th>UTI1215</th>\n",
              "    </tr>\n",
              "  </thead>\n",
              "  <tbody>\n",
              "    <tr>\n",
              "      <th>0</th>\n",
              "      <td>SiO2</td>\n",
              "      <td>48.35</td>\n",
              "      <td>48.31</td>\n",
              "      <td>49.03</td>\n",
              "      <td>48.27</td>\n",
              "      <td>48.28</td>\n",
              "      <td>49.02</td>\n",
              "      <td>48.83</td>\n",
              "      <td>44.82</td>\n",
              "      <td>43.16</td>\n",
              "    </tr>\n",
              "    <tr>\n",
              "      <th>1</th>\n",
              "      <td>TiO2</td>\n",
              "      <td>1.61</td>\n",
              "      <td>1.71</td>\n",
              "      <td>1.71</td>\n",
              "      <td>1.61</td>\n",
              "      <td>1.58</td>\n",
              "      <td>1.66</td>\n",
              "      <td>1.60</td>\n",
              "      <td>2.29</td>\n",
              "      <td>3.07</td>\n",
              "    </tr>\n",
              "    <tr>\n",
              "      <th>2</th>\n",
              "      <td>Al2O3</td>\n",
              "      <td>17.17</td>\n",
              "      <td>16.98</td>\n",
              "      <td>17.64</td>\n",
              "      <td>17.16</td>\n",
              "      <td>17.41</td>\n",
              "      <td>17.68</td>\n",
              "      <td>17.26</td>\n",
              "      <td>15.01</td>\n",
              "      <td>17.08</td>\n",
              "    </tr>\n",
              "    <tr>\n",
              "      <th>3</th>\n",
              "      <td>Fe2O3</td>\n",
              "      <td>9.91</td>\n",
              "      <td>10.00</td>\n",
              "      <td>10.28</td>\n",
              "      <td>9.78</td>\n",
              "      <td>9.59</td>\n",
              "      <td>10.12</td>\n",
              "      <td>9.86</td>\n",
              "      <td>8.56</td>\n",
              "      <td>9.53</td>\n",
              "    </tr>\n",
              "    <tr>\n",
              "      <th>4</th>\n",
              "      <td>MnO</td>\n",
              "      <td>0.18</td>\n",
              "      <td>0.17</td>\n",
              "      <td>0.17</td>\n",
              "      <td>0.17</td>\n",
              "      <td>0.17</td>\n",
              "      <td>0.17</td>\n",
              "      <td>0.18</td>\n",
              "      <td>0.13</td>\n",
              "      <td>0.13</td>\n",
              "    </tr>\n",
              "  </tbody>\n",
              "</table>\n",
              "</div>"
            ],
            "text/plain": [
              "  Unnamed: 0  UTI1415  UTI16515  UTI2015  ...  UTI1815  UTI1715  UTI8115  UTI1215\n",
              "0       SiO2    48.35     48.31    49.03  ...    49.02    48.83    44.82    43.16\n",
              "1       TiO2     1.61      1.71     1.71  ...     1.66     1.60     2.29     3.07\n",
              "2      Al2O3    17.17     16.98    17.64  ...    17.68    17.26    15.01    17.08\n",
              "3      Fe2O3     9.91     10.00    10.28  ...    10.12     9.86     8.56     9.53\n",
              "4        MnO     0.18      0.17     0.17  ...     0.17     0.18     0.13     0.13\n",
              "\n",
              "[5 rows x 10 columns]"
            ]
          },
          "metadata": {
            "tags": []
          },
          "execution_count": 323
        }
      ]
    },
    {
      "cell_type": "code",
      "metadata": {
        "id": "SPkUuz7BA5Lz",
        "outputId": "ceeb9c8e-bf7c-45e0-f170-b0bf75be751a",
        "colab": {
          "base_uri": "https://localhost:8080/",
          "height": 348
        }
      },
      "source": [
        "#Formating\n",
        "CHEM = pd.read_excel(FILE,sheet_name='Whole_Rock', index_col = 0).transpose()\n",
        "CHEM"
      ],
      "execution_count": null,
      "outputs": [
        {
          "output_type": "execute_result",
          "data": {
            "text/html": [
              "<div>\n",
              "<style scoped>\n",
              "    .dataframe tbody tr th:only-of-type {\n",
              "        vertical-align: middle;\n",
              "    }\n",
              "\n",
              "    .dataframe tbody tr th {\n",
              "        vertical-align: top;\n",
              "    }\n",
              "\n",
              "    .dataframe thead th {\n",
              "        text-align: right;\n",
              "    }\n",
              "</style>\n",
              "<table border=\"1\" class=\"dataframe\">\n",
              "  <thead>\n",
              "    <tr style=\"text-align: right;\">\n",
              "      <th></th>\n",
              "      <th>SiO2</th>\n",
              "      <th>TiO2</th>\n",
              "      <th>Al2O3</th>\n",
              "      <th>Fe2O3</th>\n",
              "      <th>MnO</th>\n",
              "      <th>MgO</th>\n",
              "      <th>CaO</th>\n",
              "      <th>Na2O</th>\n",
              "      <th>K2O</th>\n",
              "      <th>P2O5</th>\n",
              "      <th>LOI</th>\n",
              "      <th>Total</th>\n",
              "      <th>Li</th>\n",
              "      <th>Sc</th>\n",
              "      <th>V</th>\n",
              "      <th>Cr</th>\n",
              "      <th>Co</th>\n",
              "      <th>Ni</th>\n",
              "      <th>Cu</th>\n",
              "      <th>Zn</th>\n",
              "      <th>Ga</th>\n",
              "      <th>Rb</th>\n",
              "      <th>Sr</th>\n",
              "      <th>Y</th>\n",
              "      <th>Zr</th>\n",
              "      <th>Nb</th>\n",
              "      <th>Cs</th>\n",
              "      <th>Ba</th>\n",
              "      <th>La</th>\n",
              "      <th>Ce</th>\n",
              "      <th>Pr</th>\n",
              "      <th>Nd</th>\n",
              "      <th>Sm</th>\n",
              "      <th>Eu</th>\n",
              "      <th>Gd</th>\n",
              "      <th>Tb</th>\n",
              "      <th>Dy</th>\n",
              "      <th>Ho</th>\n",
              "      <th>Er</th>\n",
              "      <th>Tm</th>\n",
              "      <th>Yb</th>\n",
              "      <th>Lu</th>\n",
              "      <th>Hf</th>\n",
              "      <th>Ta</th>\n",
              "      <th>Pb</th>\n",
              "      <th>Th</th>\n",
              "      <th>U</th>\n",
              "    </tr>\n",
              "  </thead>\n",
              "  <tbody>\n",
              "    <tr>\n",
              "      <th>UTI1415</th>\n",
              "      <td>48.35</td>\n",
              "      <td>1.61</td>\n",
              "      <td>17.17</td>\n",
              "      <td>9.91</td>\n",
              "      <td>0.18</td>\n",
              "      <td>6.18</td>\n",
              "      <td>8.39</td>\n",
              "      <td>3.39</td>\n",
              "      <td>2.30</td>\n",
              "      <td>0.56</td>\n",
              "      <td>1.14</td>\n",
              "      <td>99.18</td>\n",
              "      <td>9.1</td>\n",
              "      <td>20.7</td>\n",
              "      <td>161.0</td>\n",
              "      <td>185.0</td>\n",
              "      <td>31.7</td>\n",
              "      <td>73.0</td>\n",
              "      <td>51.0</td>\n",
              "      <td>76.0</td>\n",
              "      <td>17.7</td>\n",
              "      <td>41.44</td>\n",
              "      <td>620.0</td>\n",
              "      <td>28.0</td>\n",
              "      <td>191.0</td>\n",
              "      <td>71.36</td>\n",
              "      <td>0.32</td>\n",
              "      <td>542.0</td>\n",
              "      <td>36.04</td>\n",
              "      <td>64.66</td>\n",
              "      <td>7.09</td>\n",
              "      <td>27.57</td>\n",
              "      <td>5.44</td>\n",
              "      <td>1.82</td>\n",
              "      <td>5.34</td>\n",
              "      <td>0.84</td>\n",
              "      <td>4.89</td>\n",
              "      <td>0.98</td>\n",
              "      <td>2.77</td>\n",
              "      <td>0.410</td>\n",
              "      <td>2.58</td>\n",
              "      <td>0.39</td>\n",
              "      <td>3.92</td>\n",
              "      <td>3.77</td>\n",
              "      <td>2.28</td>\n",
              "      <td>4.77</td>\n",
              "      <td>1.21</td>\n",
              "    </tr>\n",
              "    <tr>\n",
              "      <th>UTI16515</th>\n",
              "      <td>48.31</td>\n",
              "      <td>1.71</td>\n",
              "      <td>16.98</td>\n",
              "      <td>10.00</td>\n",
              "      <td>0.17</td>\n",
              "      <td>6.80</td>\n",
              "      <td>8.67</td>\n",
              "      <td>3.36</td>\n",
              "      <td>1.84</td>\n",
              "      <td>0.52</td>\n",
              "      <td>1.55</td>\n",
              "      <td>99.92</td>\n",
              "      <td>9.4</td>\n",
              "      <td>21.5</td>\n",
              "      <td>165.0</td>\n",
              "      <td>206.0</td>\n",
              "      <td>32.5</td>\n",
              "      <td>79.0</td>\n",
              "      <td>52.0</td>\n",
              "      <td>72.0</td>\n",
              "      <td>17.4</td>\n",
              "      <td>29.04</td>\n",
              "      <td>536.0</td>\n",
              "      <td>28.1</td>\n",
              "      <td>187.0</td>\n",
              "      <td>69.34</td>\n",
              "      <td>0.38</td>\n",
              "      <td>489.0</td>\n",
              "      <td>33.91</td>\n",
              "      <td>60.86</td>\n",
              "      <td>6.90</td>\n",
              "      <td>26.87</td>\n",
              "      <td>5.38</td>\n",
              "      <td>1.75</td>\n",
              "      <td>5.39</td>\n",
              "      <td>0.83</td>\n",
              "      <td>4.87</td>\n",
              "      <td>0.98</td>\n",
              "      <td>2.73</td>\n",
              "      <td>0.407</td>\n",
              "      <td>2.51</td>\n",
              "      <td>0.37</td>\n",
              "      <td>3.77</td>\n",
              "      <td>3.68</td>\n",
              "      <td>2.24</td>\n",
              "      <td>4.56</td>\n",
              "      <td>1.17</td>\n",
              "    </tr>\n",
              "    <tr>\n",
              "      <th>UTI2015</th>\n",
              "      <td>49.03</td>\n",
              "      <td>1.71</td>\n",
              "      <td>17.64</td>\n",
              "      <td>10.28</td>\n",
              "      <td>0.17</td>\n",
              "      <td>5.13</td>\n",
              "      <td>9.15</td>\n",
              "      <td>2.42</td>\n",
              "      <td>1.45</td>\n",
              "      <td>1.00</td>\n",
              "      <td>1.30</td>\n",
              "      <td>99.28</td>\n",
              "      <td>6.2</td>\n",
              "      <td>20.3</td>\n",
              "      <td>173.0</td>\n",
              "      <td>191.0</td>\n",
              "      <td>29.7</td>\n",
              "      <td>69.0</td>\n",
              "      <td>45.0</td>\n",
              "      <td>86.0</td>\n",
              "      <td>17.6</td>\n",
              "      <td>29.26</td>\n",
              "      <td>568.0</td>\n",
              "      <td>30.9</td>\n",
              "      <td>182.0</td>\n",
              "      <td>69.01</td>\n",
              "      <td>0.44</td>\n",
              "      <td>917.0</td>\n",
              "      <td>41.34</td>\n",
              "      <td>61.65</td>\n",
              "      <td>7.47</td>\n",
              "      <td>29.32</td>\n",
              "      <td>5.62</td>\n",
              "      <td>1.87</td>\n",
              "      <td>5.64</td>\n",
              "      <td>0.88</td>\n",
              "      <td>5.06</td>\n",
              "      <td>1.01</td>\n",
              "      <td>2.91</td>\n",
              "      <td>0.426</td>\n",
              "      <td>2.69</td>\n",
              "      <td>0.41</td>\n",
              "      <td>3.79</td>\n",
              "      <td>3.68</td>\n",
              "      <td>2.61</td>\n",
              "      <td>4.65</td>\n",
              "      <td>1.41</td>\n",
              "    </tr>\n",
              "    <tr>\n",
              "      <th>UTI1515</th>\n",
              "      <td>48.27</td>\n",
              "      <td>1.61</td>\n",
              "      <td>17.16</td>\n",
              "      <td>9.78</td>\n",
              "      <td>0.17</td>\n",
              "      <td>6.30</td>\n",
              "      <td>8.32</td>\n",
              "      <td>3.35</td>\n",
              "      <td>2.25</td>\n",
              "      <td>0.56</td>\n",
              "      <td>2.15</td>\n",
              "      <td>99.92</td>\n",
              "      <td>9.4</td>\n",
              "      <td>19.1</td>\n",
              "      <td>152.0</td>\n",
              "      <td>173.0</td>\n",
              "      <td>29.9</td>\n",
              "      <td>74.0</td>\n",
              "      <td>50.0</td>\n",
              "      <td>71.0</td>\n",
              "      <td>17.2</td>\n",
              "      <td>38.98</td>\n",
              "      <td>556.0</td>\n",
              "      <td>27.3</td>\n",
              "      <td>189.0</td>\n",
              "      <td>69.46</td>\n",
              "      <td>0.31</td>\n",
              "      <td>506.0</td>\n",
              "      <td>34.43</td>\n",
              "      <td>61.77</td>\n",
              "      <td>6.93</td>\n",
              "      <td>27.02</td>\n",
              "      <td>5.25</td>\n",
              "      <td>1.75</td>\n",
              "      <td>5.21</td>\n",
              "      <td>0.81</td>\n",
              "      <td>4.70</td>\n",
              "      <td>0.96</td>\n",
              "      <td>2.70</td>\n",
              "      <td>0.402</td>\n",
              "      <td>2.49</td>\n",
              "      <td>0.37</td>\n",
              "      <td>3.73</td>\n",
              "      <td>3.70</td>\n",
              "      <td>2.23</td>\n",
              "      <td>4.63</td>\n",
              "      <td>1.20</td>\n",
              "    </tr>\n",
              "    <tr>\n",
              "      <th>UTI315</th>\n",
              "      <td>48.28</td>\n",
              "      <td>1.58</td>\n",
              "      <td>17.41</td>\n",
              "      <td>9.59</td>\n",
              "      <td>0.17</td>\n",
              "      <td>5.99</td>\n",
              "      <td>8.38</td>\n",
              "      <td>3.32</td>\n",
              "      <td>2.25</td>\n",
              "      <td>0.55</td>\n",
              "      <td>2.85</td>\n",
              "      <td>100.37</td>\n",
              "      <td>9.7</td>\n",
              "      <td>19.5</td>\n",
              "      <td>155.0</td>\n",
              "      <td>172.0</td>\n",
              "      <td>29.8</td>\n",
              "      <td>74.0</td>\n",
              "      <td>53.0</td>\n",
              "      <td>72.0</td>\n",
              "      <td>17.4</td>\n",
              "      <td>40.19</td>\n",
              "      <td>581.0</td>\n",
              "      <td>27.2</td>\n",
              "      <td>187.0</td>\n",
              "      <td>70.12</td>\n",
              "      <td>0.32</td>\n",
              "      <td>534.0</td>\n",
              "      <td>34.66</td>\n",
              "      <td>61.80</td>\n",
              "      <td>6.87</td>\n",
              "      <td>26.68</td>\n",
              "      <td>5.23</td>\n",
              "      <td>1.76</td>\n",
              "      <td>5.12</td>\n",
              "      <td>0.81</td>\n",
              "      <td>4.69</td>\n",
              "      <td>0.93</td>\n",
              "      <td>2.63</td>\n",
              "      <td>0.393</td>\n",
              "      <td>2.45</td>\n",
              "      <td>0.37</td>\n",
              "      <td>3.72</td>\n",
              "      <td>3.65</td>\n",
              "      <td>2.25</td>\n",
              "      <td>4.63</td>\n",
              "      <td>1.23</td>\n",
              "    </tr>\n",
              "    <tr>\n",
              "      <th>UTI1815</th>\n",
              "      <td>49.02</td>\n",
              "      <td>1.66</td>\n",
              "      <td>17.68</td>\n",
              "      <td>10.12</td>\n",
              "      <td>0.17</td>\n",
              "      <td>5.22</td>\n",
              "      <td>9.24</td>\n",
              "      <td>2.55</td>\n",
              "      <td>1.71</td>\n",
              "      <td>0.87</td>\n",
              "      <td>1.08</td>\n",
              "      <td>99.32</td>\n",
              "      <td>5.6</td>\n",
              "      <td>20.5</td>\n",
              "      <td>188.0</td>\n",
              "      <td>177.0</td>\n",
              "      <td>30.3</td>\n",
              "      <td>67.0</td>\n",
              "      <td>45.0</td>\n",
              "      <td>76.0</td>\n",
              "      <td>17.7</td>\n",
              "      <td>30.02</td>\n",
              "      <td>596.0</td>\n",
              "      <td>27.9</td>\n",
              "      <td>187.0</td>\n",
              "      <td>71.52</td>\n",
              "      <td>0.27</td>\n",
              "      <td>676.0</td>\n",
              "      <td>35.56</td>\n",
              "      <td>63.81</td>\n",
              "      <td>7.14</td>\n",
              "      <td>27.78</td>\n",
              "      <td>5.40</td>\n",
              "      <td>1.80</td>\n",
              "      <td>5.30</td>\n",
              "      <td>0.85</td>\n",
              "      <td>4.91</td>\n",
              "      <td>0.99</td>\n",
              "      <td>2.77</td>\n",
              "      <td>0.407</td>\n",
              "      <td>2.59</td>\n",
              "      <td>0.39</td>\n",
              "      <td>3.88</td>\n",
              "      <td>3.79</td>\n",
              "      <td>2.34</td>\n",
              "      <td>4.80</td>\n",
              "      <td>1.23</td>\n",
              "    </tr>\n",
              "    <tr>\n",
              "      <th>UTI1715</th>\n",
              "      <td>48.83</td>\n",
              "      <td>1.60</td>\n",
              "      <td>17.26</td>\n",
              "      <td>9.86</td>\n",
              "      <td>0.18</td>\n",
              "      <td>6.04</td>\n",
              "      <td>8.07</td>\n",
              "      <td>3.61</td>\n",
              "      <td>2.34</td>\n",
              "      <td>0.56</td>\n",
              "      <td>1.01</td>\n",
              "      <td>99.36</td>\n",
              "      <td>9.7</td>\n",
              "      <td>19.3</td>\n",
              "      <td>152.0</td>\n",
              "      <td>170.0</td>\n",
              "      <td>29.9</td>\n",
              "      <td>68.0</td>\n",
              "      <td>49.0</td>\n",
              "      <td>73.0</td>\n",
              "      <td>18.1</td>\n",
              "      <td>41.47</td>\n",
              "      <td>528.0</td>\n",
              "      <td>27.2</td>\n",
              "      <td>199.0</td>\n",
              "      <td>71.19</td>\n",
              "      <td>0.34</td>\n",
              "      <td>532.0</td>\n",
              "      <td>36.28</td>\n",
              "      <td>65.01</td>\n",
              "      <td>7.14</td>\n",
              "      <td>27.91</td>\n",
              "      <td>5.37</td>\n",
              "      <td>1.75</td>\n",
              "      <td>5.29</td>\n",
              "      <td>0.82</td>\n",
              "      <td>4.84</td>\n",
              "      <td>0.96</td>\n",
              "      <td>2.76</td>\n",
              "      <td>0.401</td>\n",
              "      <td>2.57</td>\n",
              "      <td>0.39</td>\n",
              "      <td>3.99</td>\n",
              "      <td>3.83</td>\n",
              "      <td>2.53</td>\n",
              "      <td>5.03</td>\n",
              "      <td>1.29</td>\n",
              "    </tr>\n",
              "    <tr>\n",
              "      <th>UTI8115</th>\n",
              "      <td>44.82</td>\n",
              "      <td>2.29</td>\n",
              "      <td>15.01</td>\n",
              "      <td>8.56</td>\n",
              "      <td>0.13</td>\n",
              "      <td>8.78</td>\n",
              "      <td>14.74</td>\n",
              "      <td>1.90</td>\n",
              "      <td>0.44</td>\n",
              "      <td>0.14</td>\n",
              "      <td>0.78</td>\n",
              "      <td>97.59</td>\n",
              "      <td>3.3</td>\n",
              "      <td>48.4</td>\n",
              "      <td>332.0</td>\n",
              "      <td>123.0</td>\n",
              "      <td>34.1</td>\n",
              "      <td>82.0</td>\n",
              "      <td>52.0</td>\n",
              "      <td>40.0</td>\n",
              "      <td>14.0</td>\n",
              "      <td>2.75</td>\n",
              "      <td>563.0</td>\n",
              "      <td>28.5</td>\n",
              "      <td>81.0</td>\n",
              "      <td>23.55</td>\n",
              "      <td>0.03</td>\n",
              "      <td>207.0</td>\n",
              "      <td>9.02</td>\n",
              "      <td>22.77</td>\n",
              "      <td>3.46</td>\n",
              "      <td>17.74</td>\n",
              "      <td>4.93</td>\n",
              "      <td>1.74</td>\n",
              "      <td>5.62</td>\n",
              "      <td>0.91</td>\n",
              "      <td>5.32</td>\n",
              "      <td>1.04</td>\n",
              "      <td>2.75</td>\n",
              "      <td>0.384</td>\n",
              "      <td>2.26</td>\n",
              "      <td>0.32</td>\n",
              "      <td>2.60</td>\n",
              "      <td>1.26</td>\n",
              "      <td>0.45</td>\n",
              "      <td>0.47</td>\n",
              "      <td>0.10</td>\n",
              "    </tr>\n",
              "    <tr>\n",
              "      <th>UTI1215</th>\n",
              "      <td>43.16</td>\n",
              "      <td>3.07</td>\n",
              "      <td>17.08</td>\n",
              "      <td>9.53</td>\n",
              "      <td>0.13</td>\n",
              "      <td>8.42</td>\n",
              "      <td>11.97</td>\n",
              "      <td>2.27</td>\n",
              "      <td>0.78</td>\n",
              "      <td>0.26</td>\n",
              "      <td>1.60</td>\n",
              "      <td>98.27</td>\n",
              "      <td>3.2</td>\n",
              "      <td>36.3</td>\n",
              "      <td>342.0</td>\n",
              "      <td>166.0</td>\n",
              "      <td>37.0</td>\n",
              "      <td>100.0</td>\n",
              "      <td>25.0</td>\n",
              "      <td>51.0</td>\n",
              "      <td>15.1</td>\n",
              "      <td>4.09</td>\n",
              "      <td>689.0</td>\n",
              "      <td>30.0</td>\n",
              "      <td>77.0</td>\n",
              "      <td>55.73</td>\n",
              "      <td>0.04</td>\n",
              "      <td>353.0</td>\n",
              "      <td>14.37</td>\n",
              "      <td>34.44</td>\n",
              "      <td>5.03</td>\n",
              "      <td>24.15</td>\n",
              "      <td>5.89</td>\n",
              "      <td>2.10</td>\n",
              "      <td>6.27</td>\n",
              "      <td>1.00</td>\n",
              "      <td>5.74</td>\n",
              "      <td>1.11</td>\n",
              "      <td>2.92</td>\n",
              "      <td>0.398</td>\n",
              "      <td>2.35</td>\n",
              "      <td>0.34</td>\n",
              "      <td>2.25</td>\n",
              "      <td>2.72</td>\n",
              "      <td>0.79</td>\n",
              "      <td>0.55</td>\n",
              "      <td>NaN</td>\n",
              "    </tr>\n",
              "  </tbody>\n",
              "</table>\n",
              "</div>"
            ],
            "text/plain": [
              "           SiO2  TiO2  Al2O3  Fe2O3   MnO  ...    Hf    Ta    Pb    Th     U\n",
              "UTI1415   48.35  1.61  17.17   9.91  0.18  ...  3.92  3.77  2.28  4.77  1.21\n",
              "UTI16515  48.31  1.71  16.98  10.00  0.17  ...  3.77  3.68  2.24  4.56  1.17\n",
              "UTI2015   49.03  1.71  17.64  10.28  0.17  ...  3.79  3.68  2.61  4.65  1.41\n",
              "UTI1515   48.27  1.61  17.16   9.78  0.17  ...  3.73  3.70  2.23  4.63  1.20\n",
              "UTI315    48.28  1.58  17.41   9.59  0.17  ...  3.72  3.65  2.25  4.63  1.23\n",
              "UTI1815   49.02  1.66  17.68  10.12  0.17  ...  3.88  3.79  2.34  4.80  1.23\n",
              "UTI1715   48.83  1.60  17.26   9.86  0.18  ...  3.99  3.83  2.53  5.03  1.29\n",
              "UTI8115   44.82  2.29  15.01   8.56  0.13  ...  2.60  1.26  0.45  0.47  0.10\n",
              "UTI1215   43.16  3.07  17.08   9.53  0.13  ...  2.25  2.72  0.79  0.55   NaN\n",
              "\n",
              "[9 rows x 47 columns]"
            ]
          },
          "metadata": {
            "tags": []
          },
          "execution_count": 324
        }
      ]
    },
    {
      "cell_type": "code",
      "metadata": {
        "id": "cWuipi8cEpeU",
        "outputId": "a81d1db2-fe49-4e89-cad5-42f508182b08",
        "colab": {
          "base_uri": "https://localhost:8080/",
          "height": 348
        }
      },
      "source": [
        "#How to append data to a new column\n",
        "\n",
        "CHEM['Type'] = ['b','b','b','b','b','b','b','g','g']\n",
        "CHEM"
      ],
      "execution_count": null,
      "outputs": [
        {
          "output_type": "execute_result",
          "data": {
            "text/html": [
              "<div>\n",
              "<style scoped>\n",
              "    .dataframe tbody tr th:only-of-type {\n",
              "        vertical-align: middle;\n",
              "    }\n",
              "\n",
              "    .dataframe tbody tr th {\n",
              "        vertical-align: top;\n",
              "    }\n",
              "\n",
              "    .dataframe thead th {\n",
              "        text-align: right;\n",
              "    }\n",
              "</style>\n",
              "<table border=\"1\" class=\"dataframe\">\n",
              "  <thead>\n",
              "    <tr style=\"text-align: right;\">\n",
              "      <th></th>\n",
              "      <th>SiO2</th>\n",
              "      <th>TiO2</th>\n",
              "      <th>Al2O3</th>\n",
              "      <th>Fe2O3</th>\n",
              "      <th>MnO</th>\n",
              "      <th>MgO</th>\n",
              "      <th>CaO</th>\n",
              "      <th>Na2O</th>\n",
              "      <th>K2O</th>\n",
              "      <th>P2O5</th>\n",
              "      <th>LOI</th>\n",
              "      <th>Total</th>\n",
              "      <th>Li</th>\n",
              "      <th>Sc</th>\n",
              "      <th>V</th>\n",
              "      <th>Cr</th>\n",
              "      <th>Co</th>\n",
              "      <th>Ni</th>\n",
              "      <th>Cu</th>\n",
              "      <th>Zn</th>\n",
              "      <th>Ga</th>\n",
              "      <th>Rb</th>\n",
              "      <th>Sr</th>\n",
              "      <th>Y</th>\n",
              "      <th>Zr</th>\n",
              "      <th>Nb</th>\n",
              "      <th>Cs</th>\n",
              "      <th>Ba</th>\n",
              "      <th>La</th>\n",
              "      <th>Ce</th>\n",
              "      <th>Pr</th>\n",
              "      <th>Nd</th>\n",
              "      <th>Sm</th>\n",
              "      <th>Eu</th>\n",
              "      <th>Gd</th>\n",
              "      <th>Tb</th>\n",
              "      <th>Dy</th>\n",
              "      <th>Ho</th>\n",
              "      <th>Er</th>\n",
              "      <th>Tm</th>\n",
              "      <th>Yb</th>\n",
              "      <th>Lu</th>\n",
              "      <th>Hf</th>\n",
              "      <th>Ta</th>\n",
              "      <th>Pb</th>\n",
              "      <th>Th</th>\n",
              "      <th>U</th>\n",
              "      <th>Type</th>\n",
              "    </tr>\n",
              "  </thead>\n",
              "  <tbody>\n",
              "    <tr>\n",
              "      <th>UTI1415</th>\n",
              "      <td>48.35</td>\n",
              "      <td>1.61</td>\n",
              "      <td>17.17</td>\n",
              "      <td>9.91</td>\n",
              "      <td>0.18</td>\n",
              "      <td>6.18</td>\n",
              "      <td>8.39</td>\n",
              "      <td>3.39</td>\n",
              "      <td>2.30</td>\n",
              "      <td>0.56</td>\n",
              "      <td>1.14</td>\n",
              "      <td>99.18</td>\n",
              "      <td>9.1</td>\n",
              "      <td>20.7</td>\n",
              "      <td>161.0</td>\n",
              "      <td>185.0</td>\n",
              "      <td>31.7</td>\n",
              "      <td>73.0</td>\n",
              "      <td>51.0</td>\n",
              "      <td>76.0</td>\n",
              "      <td>17.7</td>\n",
              "      <td>41.44</td>\n",
              "      <td>620.0</td>\n",
              "      <td>28.0</td>\n",
              "      <td>191.0</td>\n",
              "      <td>71.36</td>\n",
              "      <td>0.32</td>\n",
              "      <td>542.0</td>\n",
              "      <td>36.04</td>\n",
              "      <td>64.66</td>\n",
              "      <td>7.09</td>\n",
              "      <td>27.57</td>\n",
              "      <td>5.44</td>\n",
              "      <td>1.82</td>\n",
              "      <td>5.34</td>\n",
              "      <td>0.84</td>\n",
              "      <td>4.89</td>\n",
              "      <td>0.98</td>\n",
              "      <td>2.77</td>\n",
              "      <td>0.410</td>\n",
              "      <td>2.58</td>\n",
              "      <td>0.39</td>\n",
              "      <td>3.92</td>\n",
              "      <td>3.77</td>\n",
              "      <td>2.28</td>\n",
              "      <td>4.77</td>\n",
              "      <td>1.21</td>\n",
              "      <td>b</td>\n",
              "    </tr>\n",
              "    <tr>\n",
              "      <th>UTI16515</th>\n",
              "      <td>48.31</td>\n",
              "      <td>1.71</td>\n",
              "      <td>16.98</td>\n",
              "      <td>10.00</td>\n",
              "      <td>0.17</td>\n",
              "      <td>6.80</td>\n",
              "      <td>8.67</td>\n",
              "      <td>3.36</td>\n",
              "      <td>1.84</td>\n",
              "      <td>0.52</td>\n",
              "      <td>1.55</td>\n",
              "      <td>99.92</td>\n",
              "      <td>9.4</td>\n",
              "      <td>21.5</td>\n",
              "      <td>165.0</td>\n",
              "      <td>206.0</td>\n",
              "      <td>32.5</td>\n",
              "      <td>79.0</td>\n",
              "      <td>52.0</td>\n",
              "      <td>72.0</td>\n",
              "      <td>17.4</td>\n",
              "      <td>29.04</td>\n",
              "      <td>536.0</td>\n",
              "      <td>28.1</td>\n",
              "      <td>187.0</td>\n",
              "      <td>69.34</td>\n",
              "      <td>0.38</td>\n",
              "      <td>489.0</td>\n",
              "      <td>33.91</td>\n",
              "      <td>60.86</td>\n",
              "      <td>6.90</td>\n",
              "      <td>26.87</td>\n",
              "      <td>5.38</td>\n",
              "      <td>1.75</td>\n",
              "      <td>5.39</td>\n",
              "      <td>0.83</td>\n",
              "      <td>4.87</td>\n",
              "      <td>0.98</td>\n",
              "      <td>2.73</td>\n",
              "      <td>0.407</td>\n",
              "      <td>2.51</td>\n",
              "      <td>0.37</td>\n",
              "      <td>3.77</td>\n",
              "      <td>3.68</td>\n",
              "      <td>2.24</td>\n",
              "      <td>4.56</td>\n",
              "      <td>1.17</td>\n",
              "      <td>b</td>\n",
              "    </tr>\n",
              "    <tr>\n",
              "      <th>UTI2015</th>\n",
              "      <td>49.03</td>\n",
              "      <td>1.71</td>\n",
              "      <td>17.64</td>\n",
              "      <td>10.28</td>\n",
              "      <td>0.17</td>\n",
              "      <td>5.13</td>\n",
              "      <td>9.15</td>\n",
              "      <td>2.42</td>\n",
              "      <td>1.45</td>\n",
              "      <td>1.00</td>\n",
              "      <td>1.30</td>\n",
              "      <td>99.28</td>\n",
              "      <td>6.2</td>\n",
              "      <td>20.3</td>\n",
              "      <td>173.0</td>\n",
              "      <td>191.0</td>\n",
              "      <td>29.7</td>\n",
              "      <td>69.0</td>\n",
              "      <td>45.0</td>\n",
              "      <td>86.0</td>\n",
              "      <td>17.6</td>\n",
              "      <td>29.26</td>\n",
              "      <td>568.0</td>\n",
              "      <td>30.9</td>\n",
              "      <td>182.0</td>\n",
              "      <td>69.01</td>\n",
              "      <td>0.44</td>\n",
              "      <td>917.0</td>\n",
              "      <td>41.34</td>\n",
              "      <td>61.65</td>\n",
              "      <td>7.47</td>\n",
              "      <td>29.32</td>\n",
              "      <td>5.62</td>\n",
              "      <td>1.87</td>\n",
              "      <td>5.64</td>\n",
              "      <td>0.88</td>\n",
              "      <td>5.06</td>\n",
              "      <td>1.01</td>\n",
              "      <td>2.91</td>\n",
              "      <td>0.426</td>\n",
              "      <td>2.69</td>\n",
              "      <td>0.41</td>\n",
              "      <td>3.79</td>\n",
              "      <td>3.68</td>\n",
              "      <td>2.61</td>\n",
              "      <td>4.65</td>\n",
              "      <td>1.41</td>\n",
              "      <td>b</td>\n",
              "    </tr>\n",
              "    <tr>\n",
              "      <th>UTI1515</th>\n",
              "      <td>48.27</td>\n",
              "      <td>1.61</td>\n",
              "      <td>17.16</td>\n",
              "      <td>9.78</td>\n",
              "      <td>0.17</td>\n",
              "      <td>6.30</td>\n",
              "      <td>8.32</td>\n",
              "      <td>3.35</td>\n",
              "      <td>2.25</td>\n",
              "      <td>0.56</td>\n",
              "      <td>2.15</td>\n",
              "      <td>99.92</td>\n",
              "      <td>9.4</td>\n",
              "      <td>19.1</td>\n",
              "      <td>152.0</td>\n",
              "      <td>173.0</td>\n",
              "      <td>29.9</td>\n",
              "      <td>74.0</td>\n",
              "      <td>50.0</td>\n",
              "      <td>71.0</td>\n",
              "      <td>17.2</td>\n",
              "      <td>38.98</td>\n",
              "      <td>556.0</td>\n",
              "      <td>27.3</td>\n",
              "      <td>189.0</td>\n",
              "      <td>69.46</td>\n",
              "      <td>0.31</td>\n",
              "      <td>506.0</td>\n",
              "      <td>34.43</td>\n",
              "      <td>61.77</td>\n",
              "      <td>6.93</td>\n",
              "      <td>27.02</td>\n",
              "      <td>5.25</td>\n",
              "      <td>1.75</td>\n",
              "      <td>5.21</td>\n",
              "      <td>0.81</td>\n",
              "      <td>4.70</td>\n",
              "      <td>0.96</td>\n",
              "      <td>2.70</td>\n",
              "      <td>0.402</td>\n",
              "      <td>2.49</td>\n",
              "      <td>0.37</td>\n",
              "      <td>3.73</td>\n",
              "      <td>3.70</td>\n",
              "      <td>2.23</td>\n",
              "      <td>4.63</td>\n",
              "      <td>1.20</td>\n",
              "      <td>b</td>\n",
              "    </tr>\n",
              "    <tr>\n",
              "      <th>UTI315</th>\n",
              "      <td>48.28</td>\n",
              "      <td>1.58</td>\n",
              "      <td>17.41</td>\n",
              "      <td>9.59</td>\n",
              "      <td>0.17</td>\n",
              "      <td>5.99</td>\n",
              "      <td>8.38</td>\n",
              "      <td>3.32</td>\n",
              "      <td>2.25</td>\n",
              "      <td>0.55</td>\n",
              "      <td>2.85</td>\n",
              "      <td>100.37</td>\n",
              "      <td>9.7</td>\n",
              "      <td>19.5</td>\n",
              "      <td>155.0</td>\n",
              "      <td>172.0</td>\n",
              "      <td>29.8</td>\n",
              "      <td>74.0</td>\n",
              "      <td>53.0</td>\n",
              "      <td>72.0</td>\n",
              "      <td>17.4</td>\n",
              "      <td>40.19</td>\n",
              "      <td>581.0</td>\n",
              "      <td>27.2</td>\n",
              "      <td>187.0</td>\n",
              "      <td>70.12</td>\n",
              "      <td>0.32</td>\n",
              "      <td>534.0</td>\n",
              "      <td>34.66</td>\n",
              "      <td>61.80</td>\n",
              "      <td>6.87</td>\n",
              "      <td>26.68</td>\n",
              "      <td>5.23</td>\n",
              "      <td>1.76</td>\n",
              "      <td>5.12</td>\n",
              "      <td>0.81</td>\n",
              "      <td>4.69</td>\n",
              "      <td>0.93</td>\n",
              "      <td>2.63</td>\n",
              "      <td>0.393</td>\n",
              "      <td>2.45</td>\n",
              "      <td>0.37</td>\n",
              "      <td>3.72</td>\n",
              "      <td>3.65</td>\n",
              "      <td>2.25</td>\n",
              "      <td>4.63</td>\n",
              "      <td>1.23</td>\n",
              "      <td>b</td>\n",
              "    </tr>\n",
              "    <tr>\n",
              "      <th>UTI1815</th>\n",
              "      <td>49.02</td>\n",
              "      <td>1.66</td>\n",
              "      <td>17.68</td>\n",
              "      <td>10.12</td>\n",
              "      <td>0.17</td>\n",
              "      <td>5.22</td>\n",
              "      <td>9.24</td>\n",
              "      <td>2.55</td>\n",
              "      <td>1.71</td>\n",
              "      <td>0.87</td>\n",
              "      <td>1.08</td>\n",
              "      <td>99.32</td>\n",
              "      <td>5.6</td>\n",
              "      <td>20.5</td>\n",
              "      <td>188.0</td>\n",
              "      <td>177.0</td>\n",
              "      <td>30.3</td>\n",
              "      <td>67.0</td>\n",
              "      <td>45.0</td>\n",
              "      <td>76.0</td>\n",
              "      <td>17.7</td>\n",
              "      <td>30.02</td>\n",
              "      <td>596.0</td>\n",
              "      <td>27.9</td>\n",
              "      <td>187.0</td>\n",
              "      <td>71.52</td>\n",
              "      <td>0.27</td>\n",
              "      <td>676.0</td>\n",
              "      <td>35.56</td>\n",
              "      <td>63.81</td>\n",
              "      <td>7.14</td>\n",
              "      <td>27.78</td>\n",
              "      <td>5.40</td>\n",
              "      <td>1.80</td>\n",
              "      <td>5.30</td>\n",
              "      <td>0.85</td>\n",
              "      <td>4.91</td>\n",
              "      <td>0.99</td>\n",
              "      <td>2.77</td>\n",
              "      <td>0.407</td>\n",
              "      <td>2.59</td>\n",
              "      <td>0.39</td>\n",
              "      <td>3.88</td>\n",
              "      <td>3.79</td>\n",
              "      <td>2.34</td>\n",
              "      <td>4.80</td>\n",
              "      <td>1.23</td>\n",
              "      <td>b</td>\n",
              "    </tr>\n",
              "    <tr>\n",
              "      <th>UTI1715</th>\n",
              "      <td>48.83</td>\n",
              "      <td>1.60</td>\n",
              "      <td>17.26</td>\n",
              "      <td>9.86</td>\n",
              "      <td>0.18</td>\n",
              "      <td>6.04</td>\n",
              "      <td>8.07</td>\n",
              "      <td>3.61</td>\n",
              "      <td>2.34</td>\n",
              "      <td>0.56</td>\n",
              "      <td>1.01</td>\n",
              "      <td>99.36</td>\n",
              "      <td>9.7</td>\n",
              "      <td>19.3</td>\n",
              "      <td>152.0</td>\n",
              "      <td>170.0</td>\n",
              "      <td>29.9</td>\n",
              "      <td>68.0</td>\n",
              "      <td>49.0</td>\n",
              "      <td>73.0</td>\n",
              "      <td>18.1</td>\n",
              "      <td>41.47</td>\n",
              "      <td>528.0</td>\n",
              "      <td>27.2</td>\n",
              "      <td>199.0</td>\n",
              "      <td>71.19</td>\n",
              "      <td>0.34</td>\n",
              "      <td>532.0</td>\n",
              "      <td>36.28</td>\n",
              "      <td>65.01</td>\n",
              "      <td>7.14</td>\n",
              "      <td>27.91</td>\n",
              "      <td>5.37</td>\n",
              "      <td>1.75</td>\n",
              "      <td>5.29</td>\n",
              "      <td>0.82</td>\n",
              "      <td>4.84</td>\n",
              "      <td>0.96</td>\n",
              "      <td>2.76</td>\n",
              "      <td>0.401</td>\n",
              "      <td>2.57</td>\n",
              "      <td>0.39</td>\n",
              "      <td>3.99</td>\n",
              "      <td>3.83</td>\n",
              "      <td>2.53</td>\n",
              "      <td>5.03</td>\n",
              "      <td>1.29</td>\n",
              "      <td>b</td>\n",
              "    </tr>\n",
              "    <tr>\n",
              "      <th>UTI8115</th>\n",
              "      <td>44.82</td>\n",
              "      <td>2.29</td>\n",
              "      <td>15.01</td>\n",
              "      <td>8.56</td>\n",
              "      <td>0.13</td>\n",
              "      <td>8.78</td>\n",
              "      <td>14.74</td>\n",
              "      <td>1.90</td>\n",
              "      <td>0.44</td>\n",
              "      <td>0.14</td>\n",
              "      <td>0.78</td>\n",
              "      <td>97.59</td>\n",
              "      <td>3.3</td>\n",
              "      <td>48.4</td>\n",
              "      <td>332.0</td>\n",
              "      <td>123.0</td>\n",
              "      <td>34.1</td>\n",
              "      <td>82.0</td>\n",
              "      <td>52.0</td>\n",
              "      <td>40.0</td>\n",
              "      <td>14.0</td>\n",
              "      <td>2.75</td>\n",
              "      <td>563.0</td>\n",
              "      <td>28.5</td>\n",
              "      <td>81.0</td>\n",
              "      <td>23.55</td>\n",
              "      <td>0.03</td>\n",
              "      <td>207.0</td>\n",
              "      <td>9.02</td>\n",
              "      <td>22.77</td>\n",
              "      <td>3.46</td>\n",
              "      <td>17.74</td>\n",
              "      <td>4.93</td>\n",
              "      <td>1.74</td>\n",
              "      <td>5.62</td>\n",
              "      <td>0.91</td>\n",
              "      <td>5.32</td>\n",
              "      <td>1.04</td>\n",
              "      <td>2.75</td>\n",
              "      <td>0.384</td>\n",
              "      <td>2.26</td>\n",
              "      <td>0.32</td>\n",
              "      <td>2.60</td>\n",
              "      <td>1.26</td>\n",
              "      <td>0.45</td>\n",
              "      <td>0.47</td>\n",
              "      <td>0.10</td>\n",
              "      <td>g</td>\n",
              "    </tr>\n",
              "    <tr>\n",
              "      <th>UTI1215</th>\n",
              "      <td>43.16</td>\n",
              "      <td>3.07</td>\n",
              "      <td>17.08</td>\n",
              "      <td>9.53</td>\n",
              "      <td>0.13</td>\n",
              "      <td>8.42</td>\n",
              "      <td>11.97</td>\n",
              "      <td>2.27</td>\n",
              "      <td>0.78</td>\n",
              "      <td>0.26</td>\n",
              "      <td>1.60</td>\n",
              "      <td>98.27</td>\n",
              "      <td>3.2</td>\n",
              "      <td>36.3</td>\n",
              "      <td>342.0</td>\n",
              "      <td>166.0</td>\n",
              "      <td>37.0</td>\n",
              "      <td>100.0</td>\n",
              "      <td>25.0</td>\n",
              "      <td>51.0</td>\n",
              "      <td>15.1</td>\n",
              "      <td>4.09</td>\n",
              "      <td>689.0</td>\n",
              "      <td>30.0</td>\n",
              "      <td>77.0</td>\n",
              "      <td>55.73</td>\n",
              "      <td>0.04</td>\n",
              "      <td>353.0</td>\n",
              "      <td>14.37</td>\n",
              "      <td>34.44</td>\n",
              "      <td>5.03</td>\n",
              "      <td>24.15</td>\n",
              "      <td>5.89</td>\n",
              "      <td>2.10</td>\n",
              "      <td>6.27</td>\n",
              "      <td>1.00</td>\n",
              "      <td>5.74</td>\n",
              "      <td>1.11</td>\n",
              "      <td>2.92</td>\n",
              "      <td>0.398</td>\n",
              "      <td>2.35</td>\n",
              "      <td>0.34</td>\n",
              "      <td>2.25</td>\n",
              "      <td>2.72</td>\n",
              "      <td>0.79</td>\n",
              "      <td>0.55</td>\n",
              "      <td>NaN</td>\n",
              "      <td>g</td>\n",
              "    </tr>\n",
              "  </tbody>\n",
              "</table>\n",
              "</div>"
            ],
            "text/plain": [
              "           SiO2  TiO2  Al2O3  Fe2O3   MnO  ...    Ta    Pb    Th     U  Type\n",
              "UTI1415   48.35  1.61  17.17   9.91  0.18  ...  3.77  2.28  4.77  1.21     b\n",
              "UTI16515  48.31  1.71  16.98  10.00  0.17  ...  3.68  2.24  4.56  1.17     b\n",
              "UTI2015   49.03  1.71  17.64  10.28  0.17  ...  3.68  2.61  4.65  1.41     b\n",
              "UTI1515   48.27  1.61  17.16   9.78  0.17  ...  3.70  2.23  4.63  1.20     b\n",
              "UTI315    48.28  1.58  17.41   9.59  0.17  ...  3.65  2.25  4.63  1.23     b\n",
              "UTI1815   49.02  1.66  17.68  10.12  0.17  ...  3.79  2.34  4.80  1.23     b\n",
              "UTI1715   48.83  1.60  17.26   9.86  0.18  ...  3.83  2.53  5.03  1.29     b\n",
              "UTI8115   44.82  2.29  15.01   8.56  0.13  ...  1.26  0.45  0.47  0.10     g\n",
              "UTI1215   43.16  3.07  17.08   9.53  0.13  ...  2.72  0.79  0.55   NaN     g\n",
              "\n",
              "[9 rows x 48 columns]"
            ]
          },
          "metadata": {
            "tags": []
          },
          "execution_count": 325
        }
      ]
    },
    {
      "cell_type": "code",
      "metadata": {
        "id": "VMQTs6txExBF"
      },
      "source": [
        "#practice\n",
        "#locate all the data for sample UTI1415 and pull it to its own data frame HINT: use to_frame() and transpose()\n",
        "CHEM.loc['UTI1415'].to_frame().transpose()\n",
        "\n",
        "#Locate the sample that have < 30 ppm Nb and pull it to its own data frame HINT: Do not use to_frame() and transpose().\n",
        "CHEM[CHEM.Nb <30]\n",
        "\n",
        "#Locate the samples that have b/w 1.6 and 1.7  wt.% TiO2\n",
        "CHEM[CHEM.TiO2.between(1.6,1.7)]\n",
        "\n",
        "#Calculate TAS for all the samples\n",
        "CHEM.SiO2/(CHEM.K2O+CHEM.Na2O)\n",
        "\n",
        "#append the TAS data to a new column using \n",
        "TAS = CHEM.SiO2/(CHEM.K2O+CHEM.Na2O)\n",
        "CHEM['TAS'] = TAS\n"
      ],
      "execution_count": null,
      "outputs": []
    },
    {
      "cell_type": "markdown",
      "metadata": {
        "id": "IkfUaJ8eTKXP"
      },
      "source": [
        "**PART 5.0 Matplotlib**"
      ]
    },
    {
      "cell_type": "code",
      "metadata": {
        "id": "3D2yB21cTQx_"
      },
      "source": [
        "#imports\n",
        "import matplotlib.pyplot as plt\n",
        "%matplotlib inline\n"
      ],
      "execution_count": null,
      "outputs": []
    },
    {
      "cell_type": "code",
      "metadata": {
        "id": "JBEYsHHZTRTB",
        "outputId": "eab67da0-5ad9-4249-aaa6-d28f42626918",
        "colab": {
          "base_uri": "https://localhost:8080/",
          "height": 305
        }
      },
      "source": [
        "#plotting simple x and y plots\n",
        "\n",
        "plt.plot(CHEM.SiO2, CHEM.TiO2,linestyle='--')\n",
        "\n",
        "#scatter plot and change colors\n",
        "\n",
        "#plt.scatter(CHEM.SiO2, CHEM.TiO2,color='#ff001e')\n",
        "\n",
        "# add title and axis titles\n",
        "\n",
        "plt.xlabel('SiO2 (wt. %)')\n",
        "plt.ylabel('TiO2 (wt. %)')\n",
        "plt.title('simple graph')"
      ],
      "execution_count": null,
      "outputs": [
        {
          "output_type": "execute_result",
          "data": {
            "text/plain": [
              "Text(0.5, 1.0, 'simple graph')"
            ]
          },
          "metadata": {
            "tags": []
          },
          "execution_count": 328
        },
        {
          "output_type": "stream",
          "text": [
            "findfont: Font family ['Calibri'] not found. Falling back to DejaVu Sans.\n"
          ],
          "name": "stderr"
        },
        {
          "output_type": "display_data",
          "data": {
            "image/png": "[encoded data removed]",
            "text/plain": [
              "<Figure size 432x288 with 1 Axes>"
            ]
          },
          "metadata": {
            "tags": [],
            "needs_background": "light"
          }
        }
      ]
    },
    {
      "cell_type": "code",
      "metadata": {
        "id": "gy4bMylxTRGd",
        "outputId": "f689e1ca-be6d-4cba-b59f-8f1d46ab8d49",
        "colab": {
          "base_uri": "https://localhost:8080/",
          "height": 371
        }
      },
      "source": [
        "#plotting multiple data\n",
        "\n",
        "MULTI,axis = plt.subplots(2,2,figsize=(6,5))\n",
        "\n",
        "symbol = 's'\n",
        "color = '#e30721'\n",
        "\n",
        "axis[0,0].scatter(CHEM.MgO,CHEM.TiO2, color=color, marker=symbol)\n",
        "axis[0,1].scatter(CHEM.MgO,CHEM.Al2O3, color=color, marker=symbol)\n",
        "axis[1,0].scatter(CHEM.MgO,CHEM.CaO, color=color, marker=symbol)\n",
        "axis[1,1].scatter(CHEM.SiO2,CHEM.TAS, color=color, marker=symbol)\n",
        "\n",
        "\n",
        "axis[0,0].set_xlim(4,10)\n",
        "axis[0,1].set_xlim(4,10)\n",
        "axis[1,0].set_xlim(4,10)\n",
        "axis[1,1].set_xlim(42,50)\n",
        "\n",
        "axis[0,0].set_xlabel('MgO')\n",
        "axis[0,1].set_xlabel('MgO')\n",
        "axis[1,0].set_xlabel('MgO')\n",
        "axis[1,1].set_xlabel('SiO2')\n",
        "\n",
        "axis[0,0].set_ylabel('TiO2')\n",
        "axis[0,1].set_ylabel('Al2O3')\n",
        "axis[1,0].set_ylabel('CaO')\n",
        "axis[1,1].set_ylabel('T.A.S.')\n",
        "\n",
        "\n",
        "\n",
        "MULTI.tight_layout(pad=1)"
      ],
      "execution_count": null,
      "outputs": [
        {
          "output_type": "display_data",
          "data": {
            "image/png": "[encoded data removed]",
            "text/plain": [
              "<Figure size 432x360 with 4 Axes>"
            ]
          },
          "metadata": {
            "tags": [],
            "needs_background": "light"
          }
        }
      ]
    },
    {
      "cell_type": "code",
      "metadata": {
        "id": "GaMpd6XB7NRH",
        "outputId": "5e28c5b8-e169-47a2-8964-befd82e17703",
        "colab": {
          "base_uri": "https://localhost:8080/",
          "height": 17
        }
      },
      "source": [
        "#export a graph\n",
        "import os\n",
        "from google.colab import files\n",
        "\n",
        "MULTI.savefig('MULTI_UF_py.jpg')\n",
        "files.download('MULTI_UF_py.jpg')"
      ],
      "execution_count": null,
      "outputs": [
        {
          "output_type": "display_data",
          "data": {
            "application/javascript": [
              "\n",
              "    async function download(id, filename, size) {\n",
              "      if (!google.colab.kernel.accessAllowed) {\n",
              "        return;\n",
              "      }\n",
              "      const div = document.createElement('div');\n",
              "      const label = document.createElement('label');\n",
              "      label.textContent = `Downloading \"${filename}\": `;\n",
              "      div.appendChild(label);\n",
              "      const progress = document.createElement('progress');\n",
              "      progress.max = size;\n",
              "      div.appendChild(progress);\n",
              "      document.body.appendChild(div);\n",
              "\n",
              "      const buffers = [];\n",
              "      let downloaded = 0;\n",
              "\n",
              "      const channel = await google.colab.kernel.comms.open(id);\n",
              "      // Send a message to notify the kernel that we're ready.\n",
              "      channel.send({})\n",
              "\n",
              "      for await (const message of channel.messages) {\n",
              "        // Send a message to notify the kernel that we're ready.\n",
              "        channel.send({})\n",
              "        if (message.buffers) {\n",
              "          for (const buffer of message.buffers) {\n",
              "            buffers.push(buffer);\n",
              "            downloaded += buffer.byteLength;\n",
              "            progress.value = downloaded;\n",
              "          }\n",
              "        }\n",
              "      }\n",
              "      const blob = new Blob(buffers, {type: 'application/binary'});\n",
              "      const a = document.createElement('a');\n",
              "      a.href = window.URL.createObjectURL(blob);\n",
              "      a.download = filename;\n",
              "      div.appendChild(a);\n",
              "      a.click();\n",
              "      div.remove();\n",
              "    }\n",
              "  "
            ],
            "text/plain": [
              "<IPython.core.display.Javascript object>"
            ]
          },
          "metadata": {
            "tags": []
          }
        },
        {
          "output_type": "display_data",
          "data": {
            "application/javascript": [
              "download(\"download_ac4714cf-1358-40d2-abcc-0291ce166c2c\", \"MULTI_UF_py.jpg\", 25084)"
            ],
            "text/plain": [
              "<IPython.core.display.Javascript object>"
            ]
          },
          "metadata": {
            "tags": []
          }
        }
      ]
    },
    {
      "cell_type": "markdown",
      "metadata": {
        "id": "iM9r-aQn-iI5"
      },
      "source": [
        "**PART 6.0 Seaborne**"
      ]
    },
    {
      "cell_type": "code",
      "metadata": {
        "id": "bxZloEiZ-sEP"
      },
      "source": [
        "#seaborn\n",
        "import seaborn as sns"
      ],
      "execution_count": null,
      "outputs": []
    },
    {
      "cell_type": "code",
      "metadata": {
        "id": "9JFMxyZx-84S",
        "outputId": "86204d43-2854-4d7c-8ebf-e991797e9f16",
        "colab": {
          "base_uri": "https://localhost:8080/",
          "height": 399
        }
      },
      "source": [
        "#Linnear regression plota\n",
        "\n",
        "sns.lmplot(x='MgO',y='Al2O3',data=CHEM)\n"
      ],
      "execution_count": null,
      "outputs": [
        {
          "output_type": "execute_result",
          "data": {
            "text/plain": [
              "<seaborn.axisgrid.FacetGrid at 0x7f72a1da61d0>"
            ]
          },
          "metadata": {
            "tags": []
          },
          "execution_count": 332
        },
        {
          "output_type": "display_data",
          "data": {
            "image/png": "[encoded data removed]",
            "text/plain": [
              "<Figure size 360x360 with 1 Axes>"
            ]
          },
          "metadata": {
            "tags": [],
            "needs_background": "light"
          }
        }
      ]
    },
    {
      "cell_type": "code",
      "metadata": {
        "id": "xnQzs6cHAFda",
        "outputId": "3665d919-0000-47be-e6b3-bac723f302fb",
        "colab": {
          "base_uri": "https://localhost:8080/",
          "height": 475
        }
      },
      "source": [
        "#bivariat plots\n",
        "\n",
        "#sns.jointplot(x=CHEM.MgO, y=CHEM.Al2O3, data=CHEM, kind='hist')\n",
        "\n",
        "sns.jointplot(x=CHEM.MgO, y=CHEM.Al2O3, data=CHEM, hue='Type')\n"
      ],
      "execution_count": null,
      "outputs": [
        {
          "output_type": "execute_result",
          "data": {
            "text/plain": [
              "<seaborn.axisgrid.JointGrid at 0x7f72a21ba550>"
            ]
          },
          "metadata": {
            "tags": []
          },
          "execution_count": 333
        },
        {
          "output_type": "stream",
          "text": [
            "findfont: Font family ['Calibri'] not found. Falling back to DejaVu Sans.\n",
            "findfont: Font family ['Calibri'] not found. Falling back to DejaVu Sans.\n"
          ],
          "name": "stderr"
        },
        {
          "output_type": "display_data",
          "data": {
            "image/png": "[encoded data removed]",
            "text/plain": [
              "<Figure size 432x432 with 3 Axes>"
            ]
          },
          "metadata": {
            "tags": [],
            "needs_background": "light"
          }
        }
      ]
    },
    {
      "cell_type": "code",
      "metadata": {
        "id": "q4ZBQAXKK_sB",
        "outputId": "d32f61a3-b8be-46eb-f1b0-989f73784ad5",
        "colab": {
          "base_uri": "https://localhost:8080/",
          "height": 319
        }
      },
      "source": [
        "#box plots\n",
        "boxes,ax = plt.subplots(1,4,figsize=(12,4))\n",
        "\n",
        "sns.boxplot(x=CHEM.Type,y=CHEM.MgO, ax=ax[0])\n",
        "sns.boxplot(x=CHEM.Type,y=CHEM.Al2O3, ax=ax[1])\n",
        "sns.boxplot(x=CHEM.Type,y=CHEM.Yb, ax=ax[2])\n",
        "sns.boxplot(x=CHEM.Type,y=CHEM.Nb, ax=ax[3])\n",
        "\n",
        "boxes.tight_layout(pad=0)"
      ],
      "execution_count": null,
      "outputs": [
        {
          "output_type": "display_data",
          "data": {
            "image/png": "[encoded data removed]",
            "text/plain": [
              "<Figure size 864x288 with 4 Axes>"
            ]
          },
          "metadata": {
            "tags": [],
            "needs_background": "light"
          }
        }
      ]
    },
    {
      "cell_type": "code",
      "metadata": {
        "id": "RAzE-NeTFRq5"
      },
      "source": [
        "#load geochron and pyroxene sheets\n",
        "GC = pd.read_excel(FILE,sheet_name='GCHRON')\n"
      ],
      "execution_count": null,
      "outputs": []
    },
    {
      "cell_type": "code",
      "metadata": {
        "id": "8_ucZQ_JK8nl",
        "outputId": "45007454-4357-40fc-eeaf-3df4279f58fe",
        "colab": {
          "base_uri": "https://localhost:8080/",
          "height": 291
        }
      },
      "source": [
        "#kde plots\n",
        "sns.kdeplot(data=GC, x='Age', bw_adjust=0.5, cut=0)\n"
      ],
      "execution_count": null,
      "outputs": [
        {
          "output_type": "execute_result",
          "data": {
            "text/plain": [
              "<matplotlib.axes._subplots.AxesSubplot at 0x7f72a2c96390>"
            ]
          },
          "metadata": {
            "tags": []
          },
          "execution_count": 336
        },
        {
          "output_type": "display_data",
          "data": {
            "image/png": "[encoded data removed]",
            "text/plain": [
              "<Figure size 432x288 with 1 Axes>"
            ]
          },
          "metadata": {
            "tags": [],
            "needs_background": "light"
          }
        }
      ]
    },
    {
      "cell_type": "code",
      "metadata": {
        "id": "kf0LK5UwMvVy",
        "outputId": "df8a6edb-8a6b-49fe-865f-0285d57b79ac",
        "colab": {
          "base_uri": "https://localhost:8080/",
          "height": 400
        }
      },
      "source": [
        "#practice time\n",
        "\n",
        "#load the PYRX sheet as a new data frame\n",
        "px = pd.read_excel(FILE,sheet_name='PYRX')\n",
        "\n",
        "#plot one figure with 6 graphs. 3 scatter plots of CaO vs Al2O3, Na2O, and Cr2O3. 3 KDE plots of Al2O3, Fe2O3, and MnO content.\n",
        "pxfig, ax = plt.subplots(2,3,figsize=(10,6))\n",
        "\n",
        "ax[0,0].scatter(px.CaO, px.Al2O3)\n",
        "ax[0,1].scatter(px.CaO, px.Na2O)\n",
        "ax[0,2].scatter(px.CaO, px.Cr2O3)\n",
        "sns.kdeplot(x=px.Al2O3,ax=ax[1,0],cut=0)\n",
        "sns.kdeplot(x=px.Fe2O3,ax=ax[1,1],cut=0)\n",
        "sns.kdeplot(x=px.MnO,ax=ax[1,2],cut=0)\n",
        "\n",
        "for i in (range(0,3)):\n",
        "  ax[0,i].set_xlabel('CaO')\n",
        "\n",
        "ax[0,0].set_ylabel('Al2O3')\n",
        "ax[0,1].set_ylabel('Na2O')\n",
        "ax[0,2].set_ylabel('Cr2O3')\n"
      ],
      "execution_count": null,
      "outputs": [
        {
          "output_type": "execute_result",
          "data": {
            "text/plain": [
              "Text(0, 0.5, 'Cr2O3')"
            ]
          },
          "metadata": {
            "tags": []
          },
          "execution_count": 337
        },
        {
          "output_type": "display_data",
          "data": {
            "image/png": "[encoded data removed]",
            "text/plain": [
              "<Figure size 720x432 with 6 Axes>"
            ]
          },
          "metadata": {
            "tags": [],
            "needs_background": "light"
          }
        }
      ]
    },
    {
      "cell_type": "markdown",
      "metadata": {
        "id": "abndiNFiOmzL"
      },
      "source": [
        "**PART 7.0 Pyrolite and Pygeostat**"
      ]
    },
    {
      "cell_type": "code",
      "metadata": {
        "id": "bTLETyp-QaoD",
        "outputId": "f019daa9-2470-4b09-8564-8683f24f9acc",
        "colab": {
          "base_uri": "https://localhost:8080/",
          "height": 1000
        }
      },
      "source": [
        "#Install all packages\n",
        "\n",
        "!pip install pyrolite\n",
        "!pip install pygeostat\n",
        "import pyrolite \n",
        "from pyrolite.geochem.ind import REE\n",
        "from pyrolite.geochem.norm import get_reference_composition, all_reference_compositions\n",
        "from pyrolite.geochem.ind import by_incompatibility\n",
        "import pyrolite.plot\n",
        "import pygeostat as gs\n",
        "\n",
        "from matplotlib.lines import Line2D\n",
        "from matplotlib.patches import Patch"
      ],
      "execution_count": null,
      "outputs": [
        {
          "output_type": "stream",
          "text": [
            "Requirement already satisfied: pyrolite in /usr/local/lib/python3.6/dist-packages (0.2.8)\n",
            "Requirement already satisfied: periodictable in /usr/local/lib/python3.6/dist-packages (from pyrolite) (1.5.2)\n",
            "Requirement already satisfied: numpydoc in /usr/local/lib/python3.6/dist-packages (from pyrolite) (1.1.0)\n",
            "Requirement already satisfied: pandas>=1.0 in /usr/local/lib/python3.6/dist-packages (from pyrolite) (1.1.2)\n",
            "Requirement already satisfied: mpltern>=0.3.1 in /usr/local/lib/python3.6/dist-packages (from pyrolite) (0.3.1)\n",
            "Requirement already satisfied: tinydb in /usr/local/lib/python3.6/dist-packages (from pyrolite) (4.2.0)\n",
            "Requirement already satisfied: scipy>=1.2 in /usr/local/lib/python3.6/dist-packages (from pyrolite) (1.4.1)\n",
            "Requirement already satisfied: joblib in /usr/local/lib/python3.6/dist-packages (from pyrolite) (0.16.0)\n",
            "Requirement already satisfied: requests in /usr/local/lib/python3.6/dist-packages (from pyrolite) (2.23.0)\n",
            "Requirement already satisfied: pathlib in /usr/local/lib/python3.6/dist-packages (from pyrolite) (1.0.1)\n",
            "Requirement already satisfied: matplotlib in /usr/local/lib/python3.6/dist-packages (from pyrolite) (3.2.2)\n",
            "Requirement already satisfied: openpyxl in /usr/local/lib/python3.6/dist-packages (from pyrolite) (2.5.9)\n",
            "Requirement already satisfied: numpy in /usr/local/lib/python3.6/dist-packages (from pyrolite) (1.18.5)\n",
            "Requirement already satisfied: mpmath in /usr/local/lib/python3.6/dist-packages (from pyrolite) (1.1.0)\n",
            "Requirement already satisfied: sympy in /usr/local/lib/python3.6/dist-packages (from pyrolite) (1.1.1)\n",
            "Requirement already satisfied: xlrd in /usr/local/lib/python3.6/dist-packages (from pyrolite) (1.1.0)\n",
            "Requirement already satisfied: pyparsing in /usr/local/lib/python3.6/dist-packages (from periodictable->pyrolite) (2.4.7)\n",
            "Requirement already satisfied: sphinx>=1.6.5 in /usr/local/lib/python3.6/dist-packages (from numpydoc->pyrolite) (1.8.5)\n",
            "Requirement already satisfied: Jinja2>=2.3 in /usr/local/lib/python3.6/dist-packages (from numpydoc->pyrolite) (2.11.2)\n",
            "Requirement already satisfied: python-dateutil>=2.7.3 in /usr/local/lib/python3.6/dist-packages (from pandas>=1.0->pyrolite) (2.8.1)\n",
            "Requirement already satisfied: pytz>=2017.2 in /usr/local/lib/python3.6/dist-packages (from pandas>=1.0->pyrolite) (2018.9)\n",
            "Requirement already satisfied: idna<3,>=2.5 in /usr/local/lib/python3.6/dist-packages (from requests->pyrolite) (2.10)\n",
            "Requirement already satisfied: urllib3!=1.25.0,!=1.25.1,<1.26,>=1.21.1 in /usr/local/lib/python3.6/dist-packages (from requests->pyrolite) (1.24.3)\n",
            "Requirement already satisfied: certifi>=2017.4.17 in /usr/local/lib/python3.6/dist-packages (from requests->pyrolite) (2020.6.20)\n",
            "Requirement already satisfied: chardet<4,>=3.0.2 in /usr/local/lib/python3.6/dist-packages (from requests->pyrolite) (3.0.4)\n",
            "Requirement already satisfied: kiwisolver>=1.0.1 in /usr/local/lib/python3.6/dist-packages (from matplotlib->pyrolite) (1.2.0)\n",
            "Requirement already satisfied: cycler>=0.10 in /usr/local/lib/python3.6/dist-packages (from matplotlib->pyrolite) (0.10.0)\n",
            "Requirement already satisfied: jdcal in /usr/local/lib/python3.6/dist-packages (from openpyxl->pyrolite) (1.4.1)\n",
            "Requirement already satisfied: et-xmlfile in /usr/local/lib/python3.6/dist-packages (from openpyxl->pyrolite) (1.0.1)\n",
            "Requirement already satisfied: packaging in /usr/local/lib/python3.6/dist-packages (from sphinx>=1.6.5->numpydoc->pyrolite) (20.4)\n",
            "Requirement already satisfied: six>=1.5 in /usr/local/lib/python3.6/dist-packages (from sphinx>=1.6.5->numpydoc->pyrolite) (1.15.0)\n",
            "Requirement already satisfied: alabaster<0.8,>=0.7 in /usr/local/lib/python3.6/dist-packages (from sphinx>=1.6.5->numpydoc->pyrolite) (0.7.12)\n",
            "Requirement already satisfied: setuptools in /usr/local/lib/python3.6/dist-packages (from sphinx>=1.6.5->numpydoc->pyrolite) (50.3.0)\n",
            "Requirement already satisfied: sphinxcontrib-websupport in /usr/local/lib/python3.6/dist-packages (from sphinx>=1.6.5->numpydoc->pyrolite) (1.2.4)\n",
            "Requirement already satisfied: snowballstemmer>=1.1 in /usr/local/lib/python3.6/dist-packages (from sphinx>=1.6.5->numpydoc->pyrolite) (2.0.0)\n",
            "Requirement already satisfied: babel!=2.0,>=1.3 in /usr/local/lib/python3.6/dist-packages (from sphinx>=1.6.5->numpydoc->pyrolite) (2.8.0)\n",
            "Requirement already satisfied: imagesize in /usr/local/lib/python3.6/dist-packages (from sphinx>=1.6.5->numpydoc->pyrolite) (1.2.0)\n",
            "Requirement already satisfied: docutils>=0.11 in /usr/local/lib/python3.6/dist-packages (from sphinx>=1.6.5->numpydoc->pyrolite) (0.16)\n",
            "Requirement already satisfied: Pygments>=2.0 in /usr/local/lib/python3.6/dist-packages (from sphinx>=1.6.5->numpydoc->pyrolite) (2.6.1)\n",
            "Requirement already satisfied: MarkupSafe>=0.23 in /usr/local/lib/python3.6/dist-packages (from Jinja2>=2.3->numpydoc->pyrolite) (1.1.1)\n",
            "Requirement already satisfied: sphinxcontrib-serializinghtml in /usr/local/lib/python3.6/dist-packages (from sphinxcontrib-websupport->sphinx>=1.6.5->numpydoc->pyrolite) (1.1.4)\n",
            "Requirement already satisfied: pygeostat in /usr/local/lib/python3.6/dist-packages (1.0.6)\n",
            "Requirement already satisfied: scipy in /usr/local/lib/python3.6/dist-packages (from pygeostat) (1.4.1)\n",
            "Requirement already satisfied: h5py in /usr/local/lib/python3.6/dist-packages (from pygeostat) (2.10.0)\n",
            "Requirement already satisfied: pyevtk in /usr/local/lib/python3.6/dist-packages (from pygeostat) (1.1.1)\n",
            "Requirement already satisfied: scikit-learn in /usr/local/lib/python3.6/dist-packages (from pygeostat) (0.22.2.post1)\n",
            "Requirement already satisfied: numba in /usr/local/lib/python3.6/dist-packages (from pygeostat) (0.48.0)\n",
            "Requirement already satisfied: nbformat in /usr/local/lib/python3.6/dist-packages (from pygeostat) (5.0.7)\n",
            "Requirement already satisfied: pandas>=0.25.3 in /usr/local/lib/python3.6/dist-packages (from pygeostat) (1.1.2)\n",
            "Requirement already satisfied: matplotlib>=2.2.* in /usr/local/lib/python3.6/dist-packages (from pygeostat) (3.2.2)\n",
            "Requirement already satisfied: nbconvert in /usr/local/lib/python3.6/dist-packages (from pygeostat) (5.6.1)\n",
            "Requirement already satisfied: jupyter-client in /usr/local/lib/python3.6/dist-packages (from pygeostat) (5.3.5)\n",
            "Requirement already satisfied: numpy in /usr/local/lib/python3.6/dist-packages (from pygeostat) (1.18.5)\n",
            "Requirement already satisfied: jupyter in /usr/local/lib/python3.6/dist-packages (from pygeostat) (1.0.0)\n",
            "Requirement already satisfied: pytest in /usr/local/lib/python3.6/dist-packages (from pygeostat) (3.6.4)\n",
            "Requirement already satisfied: probscale in /usr/local/lib/python3.6/dist-packages (from pygeostat) (0.2.4)\n",
            "Requirement already satisfied: statsmodels in /usr/local/lib/python3.6/dist-packages (from pygeostat) (0.10.2)\n",
            "Requirement already satisfied: pillow in /usr/local/lib/python3.6/dist-packages (from pygeostat) (7.0.0)\n",
            "Requirement already satisfied: temp in /usr/local/lib/python3.6/dist-packages (from pygeostat) (2020.7.2)\n",
            "Requirement already satisfied: pyperclip in /usr/local/lib/python3.6/dist-packages (from pygeostat) (1.8.1)\n",
            "Requirement already satisfied: tqdm in /usr/local/lib/python3.6/dist-packages (from pygeostat) (4.41.1)\n",
            "Requirement already satisfied: six in /usr/local/lib/python3.6/dist-packages (from h5py->pygeostat) (1.15.0)\n",
            "Requirement already satisfied: joblib>=0.11 in /usr/local/lib/python3.6/dist-packages (from scikit-learn->pygeostat) (0.16.0)\n",
            "Requirement already satisfied: llvmlite<0.32.0,>=0.31.0dev0 in /usr/local/lib/python3.6/dist-packages (from numba->pygeostat) (0.31.0)\n",
            "Requirement already satisfied: setuptools in /usr/local/lib/python3.6/dist-packages (from numba->pygeostat) (50.3.0)\n",
            "Requirement already satisfied: jsonschema!=2.5.0,>=2.4 in /usr/local/lib/python3.6/dist-packages (from nbformat->pygeostat) (2.6.0)\n",
            "Requirement already satisfied: traitlets>=4.1 in /usr/local/lib/python3.6/dist-packages (from nbformat->pygeostat) (4.3.3)\n",
            "Requirement already satisfied: ipython-genutils in /usr/local/lib/python3.6/dist-packages (from nbformat->pygeostat) (0.2.0)\n",
            "Requirement already satisfied: jupyter-core in /usr/local/lib/python3.6/dist-packages (from nbformat->pygeostat) (4.6.3)\n",
            "Requirement already satisfied: python-dateutil>=2.7.3 in /usr/local/lib/python3.6/dist-packages (from pandas>=0.25.3->pygeostat) (2.8.1)\n",
            "Requirement already satisfied: pytz>=2017.2 in /usr/local/lib/python3.6/dist-packages (from pandas>=0.25.3->pygeostat) (2018.9)\n",
            "Requirement already satisfied: kiwisolver>=1.0.1 in /usr/local/lib/python3.6/dist-packages (from matplotlib>=2.2.*->pygeostat) (1.2.0)\n",
            "Requirement already satisfied: cycler>=0.10 in /usr/local/lib/python3.6/dist-packages (from matplotlib>=2.2.*->pygeostat) (0.10.0)\n",
            "Requirement already satisfied: pyparsing!=2.0.4,!=2.1.2,!=2.1.6,>=2.0.1 in /usr/local/lib/python3.6/dist-packages (from matplotlib>=2.2.*->pygeostat) (2.4.7)\n",
            "Requirement already satisfied: defusedxml in /usr/local/lib/python3.6/dist-packages (from nbconvert->pygeostat) (0.6.0)\n",
            "Requirement already satisfied: bleach in /usr/local/lib/python3.6/dist-packages (from nbconvert->pygeostat) (3.2.1)\n",
            "Requirement already satisfied: pygments in /usr/local/lib/python3.6/dist-packages (from nbconvert->pygeostat) (2.6.1)\n",
            "Requirement already satisfied: pandocfilters>=1.4.1 in /usr/local/lib/python3.6/dist-packages (from nbconvert->pygeostat) (1.4.2)\n",
            "Requirement already satisfied: entrypoints>=0.2.2 in /usr/local/lib/python3.6/dist-packages (from nbconvert->pygeostat) (0.3)\n",
            "Requirement already satisfied: jinja2>=2.4 in /usr/local/lib/python3.6/dist-packages (from nbconvert->pygeostat) (2.11.2)\n",
            "Requirement already satisfied: mistune<2,>=0.8.1 in /usr/local/lib/python3.6/dist-packages (from nbconvert->pygeostat) (0.8.4)\n",
            "Requirement already satisfied: testpath in /usr/local/lib/python3.6/dist-packages (from nbconvert->pygeostat) (0.4.4)\n",
            "Requirement already satisfied: tornado>=4.1 in /usr/local/lib/python3.6/dist-packages (from jupyter-client->pygeostat) (5.1.1)\n",
            "Requirement already satisfied: pyzmq>=13 in /usr/local/lib/python3.6/dist-packages (from jupyter-client->pygeostat) (19.0.2)\n",
            "Requirement already satisfied: ipywidgets in /usr/local/lib/python3.6/dist-packages (from jupyter->pygeostat) (7.5.1)\n",
            "Requirement already satisfied: ipykernel in /usr/local/lib/python3.6/dist-packages (from jupyter->pygeostat) (4.10.1)\n",
            "Requirement already satisfied: notebook in /usr/local/lib/python3.6/dist-packages (from jupyter->pygeostat) (5.3.1)\n",
            "Requirement already satisfied: jupyter-console in /usr/local/lib/python3.6/dist-packages (from jupyter->pygeostat) (5.2.0)\n",
            "Requirement already satisfied: qtconsole in /usr/local/lib/python3.6/dist-packages (from jupyter->pygeostat) (4.7.7)\n",
            "Requirement already satisfied: pluggy<0.8,>=0.5 in /usr/local/lib/python3.6/dist-packages (from pytest->pygeostat) (0.7.1)\n",
            "Requirement already satisfied: atomicwrites>=1.0 in /usr/local/lib/python3.6/dist-packages (from pytest->pygeostat) (1.4.0)\n",
            "Requirement already satisfied: attrs>=17.4.0 in /usr/local/lib/python3.6/dist-packages (from pytest->pygeostat) (20.2.0)\n",
            "Requirement already satisfied: more-itertools>=4.0.0 in /usr/local/lib/python3.6/dist-packages (from pytest->pygeostat) (8.5.0)\n",
            "Requirement already satisfied: py>=1.5.0 in /usr/local/lib/python3.6/dist-packages (from pytest->pygeostat) (1.9.0)\n",
            "Requirement already satisfied: patsy>=0.4.0 in /usr/local/lib/python3.6/dist-packages (from statsmodels->pygeostat) (0.5.1)\n",
            "Requirement already satisfied: decorator in /usr/local/lib/python3.6/dist-packages (from traitlets>=4.1->nbformat->pygeostat) (4.4.2)\n",
            "Requirement already satisfied: packaging in /usr/local/lib/python3.6/dist-packages (from bleach->nbconvert->pygeostat) (20.4)\n",
            "Requirement already satisfied: webencodings in /usr/local/lib/python3.6/dist-packages (from bleach->nbconvert->pygeostat) (0.5.1)\n",
            "Requirement already satisfied: MarkupSafe>=0.23 in /usr/local/lib/python3.6/dist-packages (from jinja2>=2.4->nbconvert->pygeostat) (1.1.1)\n",
            "Requirement already satisfied: widgetsnbextension~=3.5.0 in /usr/local/lib/python3.6/dist-packages (from ipywidgets->jupyter->pygeostat) (3.5.1)\n",
            "Requirement already satisfied: ipython>=4.0.0; python_version >= \"3.3\" in /usr/local/lib/python3.6/dist-packages (from ipywidgets->jupyter->pygeostat) (5.5.0)\n",
            "Requirement already satisfied: terminado>=0.8.1 in /usr/local/lib/python3.6/dist-packages (from notebook->jupyter->pygeostat) (0.9.1)\n",
            "Requirement already satisfied: Send2Trash in /usr/local/lib/python3.6/dist-packages (from notebook->jupyter->pygeostat) (1.5.0)\n",
            "Requirement already satisfied: prompt-toolkit<2.0.0,>=1.0.0 in /usr/local/lib/python3.6/dist-packages (from jupyter-console->jupyter->pygeostat) (1.0.18)\n",
            "Requirement already satisfied: qtpy in /usr/local/lib/python3.6/dist-packages (from qtconsole->jupyter->pygeostat) (1.9.0)\n",
            "Requirement already satisfied: simplegeneric>0.8 in /usr/local/lib/python3.6/dist-packages (from ipython>=4.0.0; python_version >= \"3.3\"->ipywidgets->jupyter->pygeostat) (0.8.1)\n",
            "Requirement already satisfied: pexpect; sys_platform != \"win32\" in /usr/local/lib/python3.6/dist-packages (from ipython>=4.0.0; python_version >= \"3.3\"->ipywidgets->jupyter->pygeostat) (4.8.0)\n",
            "Requirement already satisfied: pickleshare in /usr/local/lib/python3.6/dist-packages (from ipython>=4.0.0; python_version >= \"3.3\"->ipywidgets->jupyter->pygeostat) (0.7.5)\n",
            "Requirement already satisfied: ptyprocess; os_name != \"nt\" in /usr/local/lib/python3.6/dist-packages (from terminado>=0.8.1->notebook->jupyter->pygeostat) (0.6.0)\n",
            "Requirement already satisfied: wcwidth in /usr/local/lib/python3.6/dist-packages (from prompt-toolkit<2.0.0,>=1.0.0->jupyter-console->jupyter->pygeostat) (0.2.5)\n"
          ],
          "name": "stdout"
        }
      ]
    },
    {
      "cell_type": "code",
      "metadata": {
        "id": "4OjxWRjnQ01_",
        "outputId": "597d8415-4d08-4803-dc83-ef5e6eec17f4",
        "colab": {
          "base_uri": "https://localhost:8080/",
          "height": 287
        }
      },
      "source": [
        "#pyrolite spider gram and ree plots\n",
        "\n",
        "PM = get_reference_composition(\"PM_PON\")\n",
        "PMb = PM.set_units(\"ppb\")\n",
        "\n",
        "primtrace = CHEM[['Th','U','Nb','Ta','La','Ce',\n",
        "                  'Nd','Zr','Hf','Eu','Gd','Dy',\n",
        "                  'Y','Yb','Lu']]\n",
        "\n",
        "tracePMNORM = primtrace.pyrochem.normalize_to(PMb, units ='ppm')\n",
        "tracePMNORM.pyroplot.spider(\n",
        "        unity_line = True,\n",
        "        index_order=by_incompatibility, color='black'\n",
        "    )\n"
      ],
      "execution_count": null,
      "outputs": [
        {
          "output_type": "execute_result",
          "data": {
            "text/plain": [
              "<matplotlib.axes._subplots.AxesSubplot at 0x7f72a4059f28>"
            ]
          },
          "metadata": {
            "tags": []
          },
          "execution_count": 339
        },
        {
          "output_type": "display_data",
          "data": {
            "image/png": "[encoded data removed]",
            "text/plain": [
              "<Figure size 432x288 with 1 Axes>"
            ]
          },
          "metadata": {
            "tags": [],
            "needs_background": "light"
          }
        }
      ]
    },
    {
      "cell_type": "code",
      "metadata": {
        "id": "YYUPopCaSCMa",
        "outputId": "bd16acae-f237-4392-d3cc-3ceb65d3688b",
        "colab": {
          "base_uri": "https://localhost:8080/",
          "height": 532
        }
      },
      "source": [
        "#plot both PM and REE plots on one graph\n",
        "\n",
        "traceelm,ax = plt.subplots(nrows=1,ncols=2,\n",
        "                             figsize=(12,5), \n",
        "                             sharex=False, \n",
        "                             sharey=False, \n",
        "                             dpi=100)\n",
        "PM = get_reference_composition(\"PM_PON\")\n",
        "PMb = PM.set_units(\"ppb\")\n",
        "\n",
        "primtrace = CHEM[['Th','U','Nb','Ta','La','Ce',\n",
        "                  'Nd','Zr','Hf','Eu','Gd','Dy',\n",
        "                  'Y','Yb','Lu']]\n",
        "chontrace = CHEM[['La','Ce','Pr','Nd','Sm','Eu',\n",
        "                  'Gd','Tb','Dy','Ho','Er','Yb',\n",
        "                  'Lu']]\n",
        "\n",
        "tracePMNORM = primtrace.pyrochem.normalize_to(PMb, units ='ppm')\n",
        "traceCHNORM = chontrace.pyrochem.normalize_to(PMb, units ='ppm')\n",
        "\n",
        "tracePMNORM.pyroplot.spider(unity_line = True,\n",
        "                            index_order=by_incompatibility, \n",
        "                            color='black', \n",
        "                            ax=ax[0]\n",
        "                            )\n",
        "traceCHNORM.pyroplot.REE(unity_line=True,\n",
        "                         index_order=by_incompatibility,\n",
        "                         color='black',\n",
        "                         ax=ax[1]\n",
        "                         )"
      ],
      "execution_count": null,
      "outputs": [
        {
          "output_type": "execute_result",
          "data": {
            "text/plain": [
              "<matplotlib.axes._subplots.AxesSubplot at 0x7f72a56306a0>"
            ]
          },
          "metadata": {
            "tags": []
          },
          "execution_count": 340
        },
        {
          "output_type": "display_data",
          "data": {
            "image/png": "[encoded data removed]",
            "text/plain": [
              "<Figure size 1200x500 with 3 Axes>"
            ]
          },
          "metadata": {
            "tags": [],
            "needs_background": "light"
          }
        }
      ]
    },
    {
      "cell_type": "code",
      "metadata": {
        "id": "hX1kYIDjUd75",
        "outputId": "cbd36684-a2b6-4a98-fee4-f13005c0ee99",
        "colab": {
          "base_uri": "https://localhost:8080/",
          "height": 142
        }
      },
      "source": [
        "df.head(3)"
      ],
      "execution_count": null,
      "outputs": [
        {
          "output_type": "execute_result",
          "data": {
            "text/html": [
              "<div>\n",
              "<style scoped>\n",
              "    .dataframe tbody tr th:only-of-type {\n",
              "        vertical-align: middle;\n",
              "    }\n",
              "\n",
              "    .dataframe tbody tr th {\n",
              "        vertical-align: top;\n",
              "    }\n",
              "\n",
              "    .dataframe thead th {\n",
              "        text-align: right;\n",
              "    }\n",
              "</style>\n",
              "<table border=\"1\" class=\"dataframe\">\n",
              "  <thead>\n",
              "    <tr style=\"text-align: right;\">\n",
              "      <th></th>\n",
              "      <th>Rb</th>\n",
              "      <th>Sr</th>\n",
              "      <th>Q</th>\n",
              "      <th>A</th>\n",
              "      <th>P</th>\n",
              "    </tr>\n",
              "  </thead>\n",
              "  <tbody>\n",
              "    <tr>\n",
              "      <th>rockno_1</th>\n",
              "      <td>62.0</td>\n",
              "      <td>200.0</td>\n",
              "      <td>4.0</td>\n",
              "      <td>11.0</td>\n",
              "      <td>85.0</td>\n",
              "    </tr>\n",
              "    <tr>\n",
              "      <th>rockno_2</th>\n",
              "      <td>87.1</td>\n",
              "      <td>700.5</td>\n",
              "      <td>13.0</td>\n",
              "      <td>20.0</td>\n",
              "      <td>67.0</td>\n",
              "    </tr>\n",
              "    <tr>\n",
              "      <th>rockno_3</th>\n",
              "      <td>65.4</td>\n",
              "      <td>245.6</td>\n",
              "      <td>30.0</td>\n",
              "      <td>25.0</td>\n",
              "      <td>45.0</td>\n",
              "    </tr>\n",
              "  </tbody>\n",
              "</table>\n",
              "</div>"
            ],
            "text/plain": [
              "            Rb     Sr     Q     A     P\n",
              "rockno_1  62.0  200.0   4.0  11.0  85.0\n",
              "rockno_2  87.1  700.5  13.0  20.0  67.0\n",
              "rockno_3  65.4  245.6  30.0  25.0  45.0"
            ]
          },
          "metadata": {
            "tags": []
          },
          "execution_count": 341
        }
      ]
    },
    {
      "cell_type": "code",
      "metadata": {
        "id": "wfDPawJxTD60",
        "outputId": "b61acf0e-c020-4bc9-b3e0-fa510a61e3b6",
        "colab": {
          "base_uri": "https://localhost:8080/",
          "height": 319
        }
      },
      "source": [
        "#plotting ternary plots\n",
        "\n",
        "df.loc[:, [\"Q\", \"A\", \"P\"]].pyroplot.scatter()\n",
        "\n"
      ],
      "execution_count": null,
      "outputs": [
        {
          "output_type": "execute_result",
          "data": {
            "text/plain": [
              "<matplotlib.axes._subplots.TernaryAxesSubplot at 0x7f72a2fdd8d0>"
            ]
          },
          "metadata": {
            "tags": []
          },
          "execution_count": 342
        },
        {
          "output_type": "display_data",
          "data": {
            "image/png": "[encoded data removed]",
            "text/plain": [
              "<Figure size 432x288 with 1 Axes>"
            ]
          },
          "metadata": {
            "tags": [],
            "needs_background": "light"
          }
        }
      ]
    },
    {
      "cell_type": "code",
      "metadata": {
        "id": "zQMQYtg0WS_G",
        "outputId": "f3bf0714-13ec-414f-deda-9c3691c6bd99",
        "colab": {
          "base_uri": "https://localhost:8080/",
          "height": 500
        }
      },
      "source": [
        "#plot two ternaries one of the QAP one of PX composition with CaO, MgO, Fe2O3). Px plots should have green circle symbols \n",
        "tri, ax = plt.subplots(nrows=1,ncols=2,\n",
        "                             figsize=(12,5), \n",
        "                             sharex=False, \n",
        "                             sharey=False, \n",
        "                             dpi=100)\n",
        "\n",
        "df.loc[:, [\"Q\", \"A\", \"P\"]].pyroplot.scatter(ax=ax[0])\n",
        "px.loc[:, [\"CaO\", \"MgO\", \"Fe2O3\"]].pyroplot.scatter(ax=ax[1], color='green')\n",
        "\n",
        "#add lines to demarcate\n",
        "\n",
        "Q=[90, 90, 60, 60, 20, 20, 5, 5, 0, 0, 60, 60, 0, 0, 60, 0, 0, 20]\n",
        "A=[10, 0, 0, 40, 80, 0, 0, 95, 100, 90, 36, 4, 10, 35, 14, 35, 65, 52]\n",
        "P= [0, 10, 40, 0, 0, 80, 95, 0, 0, 10, 4, 36, 90, 65, 26, 65, 35, 28]\n",
        "\n",
        "l = pd.DataFrame([Q,A,P],index =['Q', 'A', 'P']).transpose()\n",
        "l.loc[:, [\"Q\", \"A\", \"P\"]].pyroplot.plot(ax=ax[0], color='black', linewidth=0.5)\n",
        "\n"
      ],
      "execution_count": null,
      "outputs": [
        {
          "output_type": "execute_result",
          "data": {
            "text/plain": [
              "<matplotlib.axes._subplots.TernaryAxesSubplot at 0x7f72c66646d8>"
            ]
          },
          "metadata": {
            "tags": []
          },
          "execution_count": 343
        },
        {
          "output_type": "display_data",
          "data": {
            "image/png": "[encoded data removed]",
            "text/plain": [
              "<Figure size 1200x500 with 2 Axes>"
            ]
          },
          "metadata": {
            "tags": [],
            "needs_background": "light"
          }
        }
      ]
    },
    {
      "cell_type": "code",
      "metadata": {
        "id": "TPBuwK_0gNa8"
      },
      "source": [
        "#well log plots\n",
        "wGEO = pd.read_excel(FILE,sheet_name='WELL_GEO')\n",
        "wALT = pd.read_excel(FILE,sheet_name='WELL_ALT')\n",
        "wGT = pd.read_excel(FILE,sheet_name='WELL_GT')\n",
        "wCLR = pd.read_excel(FILE,sheet_name='WELL_COLLAR',index_col=0)\n",
        "\n",
        "#Do this after trying plotting first\n",
        "wGEO = wGEO.append({ 'From'      : wGEO.To[len(wGEO)-1],\n",
        "                    'LITH_CODE'  : wGEO.LITH_CODE[len(wGEO)-1]}, ignore_index=True)\n",
        "wALT = wALT.append({ 'From'      : wALT.To[len(wALT)-1],\n",
        "                    'ALT_CODE'   : wALT.ALT_CODE[len(wALT)-1]},ignore_index=True)\n",
        "\n",
        "#transpose well collar info for ease of pulling data\n",
        "\n",
        "wCLR = wCLR.transpose()\n",
        "\n",
        "#assign TD value\n",
        "\n",
        "TD = wCLR.TD[0] #or ['HL_001]\n"
      ],
      "execution_count": null,
      "outputs": []
    },
    {
      "cell_type": "code",
      "metadata": {
        "id": "STyZvrLZ3VHY"
      },
      "source": [
        "\n"
      ],
      "execution_count": null,
      "outputs": []
    },
    {
      "cell_type": "code",
      "metadata": {
        "id": "4d8ZA_NUgen7",
        "outputId": "440d7f82-73d1-43a0-a79c-95f31a4c4ccc",
        "colab": {
          "base_uri": "https://localhost:8080/",
          "height": 51
        }
      },
      "source": [
        "#find unique geology code\n",
        "unilith = wGEO.LITH_CODE.unique()\n",
        "unilith.sort()\n",
        "print('Unique Formation Codes:')\n",
        "print(unilith)\n",
        "\n",
        "\n",
        "\n"
      ],
      "execution_count": null,
      "outputs": [
        {
          "output_type": "stream",
          "text": [
            "Unique Formation Codes:\n",
            "[100. 101. 102. 103. 104.]\n"
          ],
          "name": "stdout"
        }
      ]
    },
    {
      "cell_type": "code",
      "metadata": {
        "id": "0X_tQzJCnyrQ",
        "outputId": "4dd3334b-1665-47b2-d88d-fcf6bbd724f3",
        "colab": {
          "base_uri": "https://localhost:8080/",
          "height": 51
        }
      },
      "source": [
        "#on your own attempt to find the unique codes for alterations\n",
        "\n",
        "unialt = wALT.ALT_CODE.unique()\n",
        "unialt.sort()\n",
        "print('Unique Alteration Codes:')\n",
        "print(unialt)"
      ],
      "execution_count": null,
      "outputs": [
        {
          "output_type": "stream",
          "text": [
            "Unique Alteration Codes:\n",
            "[200. 201. 202. 203.]\n"
          ],
          "name": "stdout"
        }
      ]
    },
    {
      "cell_type": "code",
      "metadata": {
        "id": "C-Jrfnp4nyhG",
        "outputId": "32720471-0ca9-49ff-8cc5-59e895c4136d",
        "colab": {
          "base_uri": "https://localhost:8080/",
          "height": 608
        }
      },
      "source": [
        "#plot categorical striplogs \n",
        "gs.drill_plot(wGEO['From'],wGEO['LITH_CODE'],cat=1).set_ylim(TD,0)"
      ],
      "execution_count": null,
      "outputs": [
        {
          "output_type": "execute_result",
          "data": {
            "text/plain": [
              "(1100.0, 0.0)"
            ]
          },
          "metadata": {
            "tags": []
          },
          "execution_count": 486
        },
        {
          "output_type": "display_data",
          "data": {
            "image/png": "[encoded data removed]",
            "text/plain": [
              "<Figure size 144x720 with 2 Axes>"
            ]
          },
          "metadata": {
            "tags": []
          }
        }
      ]
    },
    {
      "cell_type": "code",
      "metadata": {
        "id": "6vXDQStyl8BP"
      },
      "source": [
        "#plot the category labels and colors you want\n",
        "\n",
        "lith_dict = {100: {'name': 'g', 'color': '#f4f5ba'},\n",
        "             101: {'name': 'sh', 'color': '#558a77'},\n",
        "             102: {'name': 'ls', 'color': '#7ea7d9'},\n",
        "             103: {'name': 'slts', 'color': '#857938'},\n",
        "             104: {'name': 'monz', 'color': '#ed5389'},\n",
        "             }\n",
        "\n",
        "alt_dict = {200: {'name': 'un', 'color': '#ffffff'},\n",
        "             201: {'name': 'bl', 'color': '#fff8c9'},\n",
        "             202: {'name': 'ar', 'color': '#edafb2'},\n",
        "             203: {'name': 'si', 'color': '#ff000d'},\n",
        "             }\n",
        "\n",
        "#add \n",
        "\n",
        "lithclrs = {'g'   : '#f4f5ba',\n",
        "            'sh'  : '#558a77',\n",
        "            'ls'  : '#7ea7d9',\n",
        "            'slts': '#857938',\n",
        "            'monz': '#ed5389',}\n",
        "\n",
        "\n",
        "altclrs = {'un'   : '#ffffff',\n",
        "            'bl'  : '#fff8c9',\n",
        "            'ar'  : '#edafb2',\n",
        "            'si': '#ff000d',\n",
        "           }\n",
        "\n",
        "\n",
        "custom_patches = [Patch(facecolor=lithclrs[rt], label=rt) for rt in lithclrs]\n",
        "custom_patches_alt = [Patch(facecolor=altclrs[rt], label=rt) for rt in altclrs]"
      ],
      "execution_count": null,
      "outputs": []
    },
    {
      "cell_type": "code",
      "metadata": {
        "id": "mwv0FcR4qqc5",
        "outputId": "a3d3b666-7978-4827-e316-7f0864fedd5b",
        "colab": {
          "base_uri": "https://localhost:8080/",
          "height": 608
        }
      },
      "source": [
        "#plot with defined lith categories\n",
        "gs.drill_plot(wGEO.From,wGEO.LITH_CODE,cat=1, categorical_dictionary=lith_dict).set_ylim(TD,0)"
      ],
      "execution_count": null,
      "outputs": [
        {
          "output_type": "execute_result",
          "data": {
            "text/plain": [
              "(1100.0, 0.0)"
            ]
          },
          "metadata": {
            "tags": []
          },
          "execution_count": 487
        },
        {
          "output_type": "display_data",
          "data": {
            "image/png": "[encoded data removed]",
            "text/plain": [
              "<Figure size 144x720 with 2 Axes>"
            ]
          },
          "metadata": {
            "tags": []
          }
        }
      ]
    },
    {
      "cell_type": "code",
      "metadata": {
        "id": "uBiqkyRYjjrV",
        "outputId": "1bcb362a-3e67-4803-fe13-0b1b61db5ca5",
        "colab": {
          "base_uri": "https://localhost:8080/",
          "height": 393
        }
      },
      "source": [
        "#Plot All the Well Data on a multiplot figure. \n",
        "\n",
        "wlog, ax = plt.subplots(1,5,figsize=(10,6), sharey=True)\n",
        "gs.drill_plot(wGEO.From,wGEO.LITH_CODE,cat=1, ax=ax[0],  legend_fontsize=0,\n",
        "              ylabel=' ',categorical_dictionary=lith_dict)\n",
        "gs.drill_plot(wALT.From,wALT.ALT_CODE,cat=1, ax=ax[1],  legend_fontsize=0,\n",
        "              ylabel=' ',categorical_dictionary=alt_dict)\n",
        "\n",
        "\n",
        "#mark the ore zone\n",
        "for i in range(2,5):\n",
        "  ax[i].fill_between([0,25], [600,600],[800,800],color='#fff203',alpha=0.3)\n",
        "\n",
        "\n",
        "ax[2].plot(wGT.RQD_P*100,wGT.From,color='black')\n",
        "ax[3].plot(wGT['R-val'],wGT.From,color='black')\n",
        "ax[4].plot(wGT.Au_gt,wGT.From,color='black')\n",
        "\n",
        "\n",
        "ax[0].set_ylabel('Depth(ft)')\n",
        "\n",
        "\n",
        "ax[0].set_ylim(TD,0)\n",
        "ax[2].set_title('RQD %', size=14)\n",
        "ax[3].set_title('Strength', size=14)\n",
        "ax[4].set_title('Au (g/t)', size=14)\n",
        "\n",
        "#label TD\n",
        "\n",
        "for i in range(0,5):\n",
        " ax[i].tick_params(direction='out', length=6, width=1)\n",
        "\n",
        "ax[0].set_yticks([TD], minor=True)\n",
        "ax[0].set_yticklabels(['TD: '+str(TD)], minor=True)\n",
        "\n",
        "\n",
        "lgd1 = ax[3].legend(frameon=False, bbox_to_anchor=(2.2, 1), handles=custom_patches,fontsize=14).set_title('Lith Code',prop={'size':14})\n",
        "\n",
        "lgd2 = ax[4].legend(frameon=False, bbox_to_anchor=(1.0, 0.5), handles=custom_patches_alt,fontsize=14).set_title('Alt Code',prop={'size':14})\n",
        "\n",
        "\n",
        "wlog.tight_layout(pad=0.1)"
      ],
      "execution_count": null,
      "outputs": [
        {
          "output_type": "display_data",
          "data": {
            "image/png": "[encoded data removed]",
            "text/plain": [
              "<Figure size 720x432 with 5 Axes>"
            ]
          },
          "metadata": {
            "tags": []
          }
        }
      ]
    },
    {
      "cell_type": "code",
      "metadata": {
        "id": "Dk4XldxKiG57"
      },
      "source": [
        "#issues with mapping boundaries - use a for loop to insert arbetrary cutoffs\n",
        "\n"
      ],
      "execution_count": null,
      "outputs": []
    }
  ]
}